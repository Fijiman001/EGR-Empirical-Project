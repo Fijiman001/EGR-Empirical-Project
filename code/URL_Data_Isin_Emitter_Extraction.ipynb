{
  "cells": [
    {
      "cell_type": "markdown",
      "metadata": {
        "id": "QQBlaehAX11c"
      },
      "source": [
        "This code is to extract the emitters and the isins of the green bonds to ultimately get a data set of all green bond emitting companies which we can use to build our conventional bond data. With the help of the ISIN we will be able to get external credit rating data if needed. The URL's of this matched data will allow us to web scrape all the relevant spread data at the end."
      ]
    },
    {
      "cell_type": "markdown",
      "metadata": {},
      "source": [
        "# Code for all bond links\n",
        "The code below is for the file \"raw_all_bond_links.csv\""
      ]
    },
    {
      "cell_type": "code",
      "execution_count": 2,
      "metadata": {
        "colab": {
          "base_uri": "https://localhost:8080/"
        },
        "id": "pA17jAdXTnHq",
        "outputId": "ff452366-8ecc-4dfd-9857-8b197766d0dd"
      },
      "outputs": [
        {
          "name": "stdout",
          "output_type": "stream",
          "text": [
            "                                                   0\n",
            "0  https://www.boerse-frankfurt.de/anleihe/de0001...\n",
            "1  https://www.boerse-frankfurt.de/anleihe/no0010...\n",
            "2  https://www.boerse-frankfurt.de/anleihe/de0001...\n",
            "3  https://www.boerse-frankfurt.de/anleihe/de000b...\n",
            "4  https://www.boerse-frankfurt.de/anleihe/us9128...\n",
            "Data processed and saved to raw_all_bond_links.csv\n",
            "                                                 URL          ISIN  \\\n",
            "0  https://www.boerse-frankfurt.de/anleihe/de0001...  de0001030716   \n",
            "1  https://www.boerse-frankfurt.de/anleihe/no0010...  no0010757925   \n",
            "2  https://www.boerse-frankfurt.de/anleihe/de0001...  de0001102382   \n",
            "3  https://www.boerse-frankfurt.de/anleihe/de000b...  de000bu22023   \n",
            "4  https://www.boerse-frankfurt.de/anleihe/us9128...  us91282ckb62   \n",
            "\n",
            "             Company + Kupon and Maturity                     Company  Coupon  \\\n",
            "0  deutschland-bundesrepublik-0-000-20-25  deutschland-bundesrepublik   0.000   \n",
            "1          norwegen-koenigreich-1-5-16-26        norwegen-koenigreich   1.500   \n",
            "2      deutschland-bundesrepublik-1-15-25  deutschland-bundesrepublik   1.000   \n",
            "3    deutschland-bundesrepublik-3-1-23-25  deutschland-bundesrepublik   3.100   \n",
            "4    united-states-of-america-4-625-24-26    united-states-of-america   4.625   \n",
            "\n",
            "   Maturity_Start  Maturity_End  \n",
            "0            20.0          25.0  \n",
            "1            16.0          26.0  \n",
            "2            15.0          25.0  \n",
            "3            23.0          25.0  \n",
            "4            24.0          26.0  \n",
            "                      Company Kupon_Maturity\n",
            "0  deutschland-bundesrepublik    0-000-20-25\n",
            "1        norwegen-koenigreich      1-5-16-26\n",
            "2  deutschland-bundesrepublik        1-15-25\n",
            "3  deutschland-bundesrepublik      3-1-23-25\n",
            "4    united-states-of-america    4-625-24-26\n"
          ]
        }
      ],
      "source": [
        "import pandas as pd\n",
        "import re\n",
        "import os\n",
        "\n",
        "# Loading the data\n",
        "data_filepath = os.path.join(\"..\", \"data\", \"Static_data\", \"raw_all_bond_links.csv\")\n",
        "df = pd.read_csv(data_filepath)\n",
        "print(df.head())\n",
        "df.columns = ['URL'] # Set column name to URL as per requirement\n",
        "\n",
        "# Function to extract ISIN and Company + Cupon and Maturity\n",
        "def extract_isin_company(url):\n",
        "    parts = url.split('/')\n",
        "    bond_info = parts[-1] # Get the last part after \"anleihe/\"\n",
        "    if '-' in bond_info:\n",
        "        isin_company_parts = bond_info.split('-', 1) # Split only once at the first hyphen\n",
        "        isin = isin_company_parts[0]\n",
        "        company_coupon_maturity = isin_company_parts[1]\n",
        "        return isin, company_coupon_maturity\n",
        "    else:\n",
        "        return None, bond_info # Handle cases without hyphen separation if needed\n",
        "\n",
        "# Apply the extraction function\n",
        "df[['ISIN', 'Company + Kupon and Maturity']] = df['URL'].apply(extract_isin_company).tolist()\n",
        "\n",
        "# Define the function to split coupon and maturity (as provided by the user)\n",
        "def split_coupon_maturity(text):\n",
        "    match = re.search(r\"(\\d+(?:[.,]\\d+)?(?:-\\d+)+)$\", text)  # Corrected regex for decimal and comma\n",
        "    if match:\n",
        "        coupon_maturity = match.group(1)\n",
        "        company = text[:match.start()].rstrip('-')\n",
        "        return company, coupon_maturity\n",
        "    return text.rstrip('-'), None\n",
        "\n",
        "# Apply the function to create 'Company' and 'Kupon_Maturity' columns\n",
        "df[['Company', 'Kupon_Maturity']] = df['Company + Kupon and Maturity'].apply(split_coupon_maturity).tolist()\n",
        "\n",
        "df['Company'] = df['Company'].str.replace(r'^-', '', regex=True)\n",
        "\n",
        "# Define the function to split coupon, maturity start and end (as provided by the user)\n",
        "def split_coupon_maturity_details(text):\n",
        "    if text:\n",
        "        parts = text.split('-')\n",
        "        if len(parts) >= 3:\n",
        "            maturity_start = parts[-2]\n",
        "            maturity_end = parts[-1]\n",
        "            coupon = '-'.join(parts[:-2]).replace('-', '.')\n",
        "            return coupon, maturity_start, maturity_end\n",
        "        elif len(parts) == 2: # Handle cases with only coupon and end year, assuming start year is the same\n",
        "            maturity_end = parts[-1]\n",
        "            coupon = parts[0].replace('-', '.')\n",
        "            return coupon, None, maturity_end # Maturity start is none if not present\n",
        "    return None, None, None\n",
        "\n",
        "# Apply the function to create 'Coupon', 'Maturity_Start', and 'Maturity_End' columns\n",
        "df[['Coupon', 'Maturity_Start', 'Maturity_End']] = df['Kupon_Maturity'].apply(split_coupon_maturity_details).tolist()\n",
        "\n",
        "# To ensure all columns with numbers are numbers\n",
        "columns_to_convert = ['Coupon', 'Maturity_Start', 'Maturity_End']\n",
        "for col in columns_to_convert:\n",
        "    df[col] = pd.to_numeric(df[col], errors='coerce')\n",
        "\n",
        "# Save the updated DataFrame to a CSV file\n",
        "df.to_csv(\"All_Bond_URLs_Processed.csv\", index=False)\n",
        "\n",
        "print(\"Data processed and saved to raw_all_bond_links.csv\")\n",
        "\n",
        "# Display the DataFrame with the separated columns, including the original\n",
        "print(df[['URL', 'ISIN', 'Company + Kupon and Maturity', 'Company', 'Coupon', 'Maturity_Start', 'Maturity_End']].head())\n",
        "\n",
        "# Display the DataFrame with the separated columns (optional) as requested in the prompt\n",
        "print(df[['Company', 'Kupon_Maturity']].head())"
      ]
    },
    {
      "cell_type": "markdown",
      "metadata": {},
      "source": [
        "# Code for Green bond links\n",
        "The following code is slightly different as I already pre modified the green bond link data. This manual modification just created what the code above did in a first step, extracting the ISIN and the rest of the string into seperate columns, to subsequently run the below code that does a regex to extract the name of the bond emitters "
      ]
    },
    {
      "cell_type": "code",
      "execution_count": null,
      "metadata": {
        "colab": {
          "base_uri": "https://localhost:8080/"
        },
        "id": "j96UMWgBbuch",
        "outputId": "bc01f09f-5c19-49dd-fb2d-6261737af69c"
      },
      "outputs": [
        {
          "name": "stdout",
          "output_type": "stream",
          "text": [
            "Data processed and saved to Green_Bond_URLs_Processed.csv\n",
            "             Company + Kupon and Maturity                     Company Coupon  \\\n",
            "0  deutschland-bundesrepublik-0-000-20-25  deutschland-bundesrepublik  0.000   \n",
            "1          norwegen-koenigreich-1-5-16-26        norwegen-koenigreich    1.5   \n",
            "2      deutschland-bundesrepublik-1-15-25  deutschland-bundesrepublik      1   \n",
            "3    deutschland-bundesrepublik-3-1-23-25  deutschland-bundesrepublik    3.1   \n",
            "4    united-states-of-america-4-625-24-26    united-states-of-america  4.625   \n",
            "\n",
            "  Maturity_Start Maturity_End  \n",
            "0             20           25  \n",
            "1             16           26  \n",
            "2             15           25  \n",
            "3             23           25  \n",
            "4             24           26  \n",
            "Data processed and saved to Green_Bond_URLs_Processed.csv\n",
            "                      Company Kupon_Maturity\n",
            "0  deutschland-bundesrepublik    0-000-20-25\n",
            "1        norwegen-koenigreich      1-5-16-26\n",
            "2  deutschland-bundesrepublik        1-15-25\n",
            "3  deutschland-bundesrepublik      3-1-23-25\n",
            "4    united-states-of-america    4-625-24-26\n"
          ]
        }
      ],
      "source": [
        "import pandas as pd\n",
        "import re\n",
        "import os\n",
        "\n",
        "# Loading the data\n",
        "data_filepath = os.path.join(\"..\", \"data\", \"Static_data\", \"Green_Bond_URLs.xlsx\")\n",
        "excel_file = pd.ExcelFile(data_filepath)\n",
        "df = excel_file.parse(\"Data\")  # Parse the \"Data\" sheet into a DataFrame\n",
        "print(df.head())\n",
        "\n",
        "def split_coupon_maturity(text):\n",
        "    match = re.search(r\"(\\d+(?:\\.\\d+)?(?:-\\d+)+)$\", text)  # Improved regex\n",
        "    if match:\n",
        "        coupon_maturity = match.group(1)\n",
        "        company = text[:match.start()].rstrip('-')  # Exclude trailing hyphens\n",
        "        return company, coupon_maturity\n",
        "    return text.rstrip('-'), None  # Handle cases where no match is found\n",
        "\n",
        "df[['Company', 'Kupon_Maturity']] = df['Company + Kupon and Maturity'].apply(split_coupon_maturity).tolist()\n",
        "\n",
        "df['Company'] = df['Company'].str.replace(r'^-', '', regex=True)\n",
        "\n",
        "# Split Kupon_Maturity into Coupon, Maturity_Start, and Maturity_End\n",
        "def split_coupon_maturity_details(text):\n",
        "    if text:\n",
        "        parts = text.split('-')\n",
        "        if len(parts) >= 3:  # Ensure there are at least 3 parts (coupon and maturities)\n",
        "            maturity_start = parts[-2]\n",
        "            maturity_end = parts[-1]\n",
        "            coupon = '-'.join(parts[:-2]).replace('-', '.')  # Join remaining parts for coupon\n",
        "            return coupon, maturity_start, maturity_end\n",
        "    return None, None, None  # Handle cases where splitting fails\n",
        "\n",
        "df[['Coupon', 'Maturity_Start', 'Maturity_End']] = df['Kupon_Maturity'].apply(split_coupon_maturity_details).tolist()\n",
        "\n",
        "# Save the updated DataFrame back to a new CSV file (or overwrite the original)\n",
        "df.to_csv(\"Green_Bond_URLs_Processed.csv\", index=False)  # Save to a new CSV\n",
        "\n",
        "print(\"Data processed and saved to Green_Bond_URLs_Processed.csv\")\n",
        "\n",
        "# Display the DataFrame with the separated columns, including the original\n",
        "print(df[['Company + Kupon and Maturity', 'Company', 'Coupon', 'Maturity_Start', 'Maturity_End']].head())\n",
        "\n",
        "# Save the updated DataFrame back to a new CSV file (or overwrite the original)\n",
        "df.to_csv(\"Green_Bond_URLs_Processed.csv\", index=False)  # Save to a new CSV\n",
        "\n",
        "print(\"Data processed and saved to Green_Bond_URLs_Processed.csv\")\n",
        "\n",
        "# Display the DataFrame with the separated columns (optional)\n",
        "print(df[['Company', 'Kupon_Maturity']].head())"
      ]
    }
  ],
  "metadata": {
    "colab": {
      "provenance": []
    },
    "kernelspec": {
      "display_name": "Python 3",
      "language": "python",
      "name": "python3"
    },
    "language_info": {
      "codemirror_mode": {
        "name": "ipython",
        "version": 3
      },
      "file_extension": ".py",
      "mimetype": "text/x-python",
      "name": "python",
      "nbconvert_exporter": "python",
      "pygments_lexer": "ipython3",
      "version": "3.12.6"
    }
  },
  "nbformat": 4,
  "nbformat_minor": 0
}
