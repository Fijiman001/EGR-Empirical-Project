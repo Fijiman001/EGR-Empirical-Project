{
  "nbformat": 4,
  "nbformat_minor": 0,
  "metadata": {
    "colab": {
      "provenance": []
    },
    "kernelspec": {
      "name": "python3",
      "display_name": "Python 3"
    },
    "language_info": {
      "name": "python"
    }
  },
  "cells": [
    {
      "cell_type": "markdown",
      "source": [
        "This code is to extract the emitters and the isins of the green bonds to ultimately get a data set of all green bond emitting companies which we can use to build our conventional bond data. With the help of the ISIN we will be able to get external credit rating data if needed. The URL's of this matched data will allow us to web scrape all the relevant spread data at the end."
      ],
      "metadata": {
        "id": "QQBlaehAX11c"
      }
    },
    {
      "cell_type": "code",
      "execution_count": 13,
      "metadata": {
        "colab": {
          "base_uri": "https://localhost:8080/"
        },
        "id": "pA17jAdXTnHq",
        "outputId": "ff452366-8ecc-4dfd-9857-8b197766d0dd"
      },
      "outputs": [
        {
          "output_type": "stream",
          "name": "stdout",
          "text": [
            "                                                 URL          ISIN  \\\n",
            "0  https://www.boerse-frankfurt.de/anleihe/xs2694...  xs2694874533   \n",
            "1  https://www.boerse-frankfurt.de/anleihe/xs1702...  xs1702729275   \n",
            "2  https://www.boerse-frankfurt.de/anleihe/xs2482...  xs2482887879   \n",
            "3  https://www.boerse-frankfurt.de/anleihe/de000a...  de000a3lh6t7   \n",
            "4  https://www.boerse-frankfurt.de/anleihe/xs2694...  xs2694872594   \n",
            "\n",
            "                        Company + Kupon and Maturity  \n",
            "0                -volkswagen-leasing-gmbh-4-75-23-31  \n",
            "1         -e-on-international-finance-b-v-1-25-17-27  \n",
            "2                                 -rwe-ag-2-75-22-30  \n",
            "3  -mercedes-benz-international-finance-b-v-3-5-2...  \n",
            "4               -volkswagen-leasing-gmbh-4-625-23-29  \n"
          ]
        }
      ],
      "source": [
        "import pandas as pd\n",
        "import re\n",
        "\n",
        "# Load the Excel file, specifying the sheet name\n",
        "excel_file = pd.ExcelFile(\"Green_Bond_URLs.xlsx\")  # Create an ExcelFile object\n",
        "df = excel_file.parse(\"Data\")  # Parse the \"Data\" sheet into a DataFrame\n",
        "print(df.head())"
      ]
    },
    {
      "cell_type": "code",
      "source": [
        "def split_coupon_maturity(text):\n",
        "    match = re.search(r\"(\\d+(?:\\.\\d+)?(?:-\\d+)+)$\", text)  # Improved regex\n",
        "    if match:\n",
        "        coupon_maturity = match.group(1)\n",
        "        company = text[:match.start()].rstrip('-')  # Exclude trailing hyphens\n",
        "        return company, coupon_maturity\n",
        "    return text.rstrip('-'), None  # Handle cases where no match is found\n",
        "\n",
        "df[['Company', 'Kupon_Maturity']] = df['Company + Kupon and Maturity'].apply(split_coupon_maturity).tolist()\n",
        "\n",
        "df['Company'] = df['Company'].str.replace(r'^-', '', regex=True)\n",
        "\n",
        "# Split Kupon_Maturity into Coupon, Maturity_Start, and Maturity_End\n",
        "def split_coupon_maturity_details(text):\n",
        "    if text:\n",
        "        parts = text.split('-')\n",
        "        if len(parts) >= 3:  # Ensure there are at least 3 parts (coupon and maturities)\n",
        "            maturity_start = parts[-2]\n",
        "            maturity_end = parts[-1]\n",
        "            coupon = '-'.join(parts[:-2]).replace('-', '.')  # Join remaining parts for coupon\n",
        "            return coupon, maturity_start, maturity_end\n",
        "    return None, None, None  # Handle cases where splitting fails\n",
        "\n",
        "df[['Coupon', 'Maturity_Start', 'Maturity_End']] = df['Kupon_Maturity'].apply(split_coupon_maturity_details).tolist()\n",
        "\n",
        "# Save the updated DataFrame back to a new CSV file (or overwrite the original)\n",
        "df.to_csv(\"Green_Bond_URLs_Processed.csv\", index=False)  # Save to a new CSV\n",
        "\n",
        "print(\"Data processed and saved to Green_Bond_URLs_Processed.csv\")\n",
        "\n",
        "# Display the DataFrame with the separated columns, including the original\n",
        "print(df[['Company + Kupon and Maturity', 'Company', 'Coupon', 'Maturity_Start', 'Maturity_End']].head())\n",
        "\n",
        "# Save the updated DataFrame back to a new CSV file (or overwrite the original)\n",
        "df.to_csv(\"Green_Bond_URLs_Processed.csv\", index=False)  # Save to a new CSV\n",
        "\n",
        "print(\"Data processed and saved to Green_Bond_URLs_Processed.csv\")\n",
        "\n",
        "# Display the DataFrame with the separated columns (optional)\n",
        "print(df[['Company', 'Kupon_Maturity']].head())"
      ],
      "metadata": {
        "colab": {
          "base_uri": "https://localhost:8080/"
        },
        "id": "j96UMWgBbuch",
        "outputId": "bc01f09f-5c19-49dd-fb2d-6261737af69c"
      },
      "execution_count": 14,
      "outputs": [
        {
          "output_type": "stream",
          "name": "stdout",
          "text": [
            "Data processed and saved to Green_Bond_URLs_Processed.csv\n",
            "                        Company + Kupon and Maturity  \\\n",
            "0                -volkswagen-leasing-gmbh-4-75-23-31   \n",
            "1         -e-on-international-finance-b-v-1-25-17-27   \n",
            "2                                 -rwe-ag-2-75-22-30   \n",
            "3  -mercedes-benz-international-finance-b-v-3-5-2...   \n",
            "4               -volkswagen-leasing-gmbh-4-625-23-29   \n",
            "\n",
            "                                   Company Coupon Maturity_Start Maturity_End  \n",
            "0                  volkswagen-leasing-gmbh   4.75             23           31  \n",
            "1           e-on-international-finance-b-v   1.25             17           27  \n",
            "2                                   rwe-ag   2.75             22           30  \n",
            "3  mercedes-benz-international-finance-b-v    3.5             23           26  \n",
            "4                  volkswagen-leasing-gmbh  4.625             23           29  \n",
            "Data processed and saved to Green_Bond_URLs_Processed.csv\n",
            "                                   Company Kupon_Maturity\n",
            "0                  volkswagen-leasing-gmbh     4-75-23-31\n",
            "1           e-on-international-finance-b-v     1-25-17-27\n",
            "2                                   rwe-ag     2-75-22-30\n",
            "3  mercedes-benz-international-finance-b-v      3-5-23-26\n",
            "4                  volkswagen-leasing-gmbh    4-625-23-29\n"
          ]
        }
      ]
    }
  ]
}