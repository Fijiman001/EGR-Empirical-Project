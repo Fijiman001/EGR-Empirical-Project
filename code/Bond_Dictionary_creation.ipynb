{
  "cells": [
    {
      "cell_type": "markdown",
      "metadata": {
        "id": "QQBlaehAX11c"
      },
      "source": [
        "This code is to extract the emitters and the isins of the green bonds to ultimately get a data set of all green bond emitting companies which we can use to build our conventional bond data. With the help of the ISIN we will be able to get external credit rating data if needed. The URL's of this matched data will allow us to web scrape all the relevant spread data at the end."
      ]
    },
    {
      "cell_type": "markdown",
      "metadata": {
        "id": "LFnKyZltjvfz"
      },
      "source": [
        "# Code for all bond links\n",
        "The code below is for the file \"raw_all_bond_links.csv\""
      ]
    },
    {
      "cell_type": "code",
      "execution_count": null,
      "metadata": {
        "colab": {
          "base_uri": "https://localhost:8080/"
        },
        "id": "pA17jAdXTnHq",
        "outputId": "ff452366-8ecc-4dfd-9857-8b197766d0dd"
      },
      "outputs": [
        {
          "name": "stdout",
          "output_type": "stream",
          "text": [
            "                                                   0\n",
            "0  https://www.boerse-frankfurt.de/anleihe/de0001...\n",
            "1  https://www.boerse-frankfurt.de/anleihe/no0010...\n",
            "2  https://www.boerse-frankfurt.de/anleihe/de0001...\n",
            "3  https://www.boerse-frankfurt.de/anleihe/de000b...\n",
            "4  https://www.boerse-frankfurt.de/anleihe/us9128...\n",
            "Data processed and saved to raw_all_bond_links.csv\n",
            "                                                 URL          ISIN  \\\n",
            "0  https://www.boerse-frankfurt.de/anleihe/de0001...  de0001030716   \n",
            "1  https://www.boerse-frankfurt.de/anleihe/no0010...  no0010757925   \n",
            "2  https://www.boerse-frankfurt.de/anleihe/de0001...  de0001102382   \n",
            "3  https://www.boerse-frankfurt.de/anleihe/de000b...  de000bu22023   \n",
            "4  https://www.boerse-frankfurt.de/anleihe/us9128...  us91282ckb62   \n",
            "\n",
            "             Company + Kupon and Maturity                     Company  Coupon  \\\n",
            "0  deutschland-bundesrepublik-0-000-20-25  deutschland-bundesrepublik   0.000   \n",
            "1          norwegen-koenigreich-1-5-16-26        norwegen-koenigreich   1.500   \n",
            "2      deutschland-bundesrepublik-1-15-25  deutschland-bundesrepublik   1.000   \n",
            "3    deutschland-bundesrepublik-3-1-23-25  deutschland-bundesrepublik   3.100   \n",
            "4    united-states-of-america-4-625-24-26    united-states-of-america   4.625   \n",
            "\n",
            "   Maturity_Start  Maturity_End  \n",
            "0            20.0          25.0  \n",
            "1            16.0          26.0  \n",
            "2            15.0          25.0  \n",
            "3            23.0          25.0  \n",
            "4            24.0          26.0  \n",
            "                      Company Kupon_Maturity\n",
            "0  deutschland-bundesrepublik    0-000-20-25\n",
            "1        norwegen-koenigreich      1-5-16-26\n",
            "2  deutschland-bundesrepublik        1-15-25\n",
            "3  deutschland-bundesrepublik      3-1-23-25\n",
            "4    united-states-of-america    4-625-24-26\n"
          ]
        }
      ],
      "source": [
        "import pandas as pd\n",
        "import re\n",
        "import os\n",
        "\n",
        "# Loading the data\n",
        "data_filepath = os.path.join(\"..\", \"data\", \"Static_data\", \"raw_all_bond_links.csv\")\n",
        "df = pd.read_csv(data_filepath)\n",
        "print(df.head())\n",
        "df.columns = ['URL'] # Set column name to URL as per requirement\n",
        "\n",
        "# Function to extract ISIN and Company + Cupon and Maturity\n",
        "def extract_isin_company(url):\n",
        "    parts = url.split('/')\n",
        "    bond_info = parts[-1] # Get the last part after \"anleihe/\"\n",
        "    if '-' in bond_info:\n",
        "        isin_company_parts = bond_info.split('-', 1) # Split only once at the first hyphen\n",
        "        isin = isin_company_parts[0]\n",
        "        company_coupon_maturity = isin_company_parts[1]\n",
        "        return isin, company_coupon_maturity\n",
        "    else:\n",
        "        return None, bond_info # Handle cases without hyphen separation if needed\n",
        "\n",
        "# Apply the extraction function\n",
        "df[['ISIN', 'Company + Kupon and Maturity']] = df['URL'].apply(extract_isin_company).tolist()\n",
        "\n",
        "# Define the function to split coupon and maturity (as provided by the user)\n",
        "def split_coupon_maturity(text):\n",
        "    match = re.search(r\"(\\d+(?:[.,]\\d+)?(?:-\\d+)+)$\", text)  # Corrected regex for decimal and comma\n",
        "    if match:\n",
        "        coupon_maturity = match.group(1)\n",
        "        company = text[:match.start()].rstrip('-')\n",
        "        return company, coupon_maturity\n",
        "    return text.rstrip('-'), None\n",
        "\n",
        "# Apply the function to create 'Company' and 'Kupon_Maturity' columns\n",
        "df[['Company', 'Kupon_Maturity']] = df['Company + Kupon and Maturity'].apply(split_coupon_maturity).tolist()\n",
        "\n",
        "df['Company'] = df['Company'].str.replace(r'^-', '', regex=True)\n",
        "\n",
        "# Define the function to split coupon, maturity start and end (as provided by the user)\n",
        "def split_coupon_maturity_details(text):\n",
        "    if text:\n",
        "        parts = text.split('-')\n",
        "        if len(parts) >= 3:\n",
        "            maturity_start = parts[-2]\n",
        "            maturity_end = parts[-1]\n",
        "            coupon = '-'.join(parts[:-2]).replace('-', '.')\n",
        "            return coupon, maturity_start, maturity_end\n",
        "        elif len(parts) == 2: # Handle cases with only coupon and end year, assuming start year is the same\n",
        "            maturity_end = parts[-1]\n",
        "            coupon = parts[0].replace('-', '.')\n",
        "            return coupon, None, maturity_end # Maturity start is none if not present\n",
        "    return None, None, None\n",
        "\n",
        "# Apply the function to create 'Coupon', 'Maturity_Start', and 'Maturity_End' columns\n",
        "df[['Coupon', 'Maturity_Start', 'Maturity_End']] = df['Kupon_Maturity'].apply(split_coupon_maturity_details).tolist()\n",
        "\n",
        "# To ensure all columns with numbers are numbers\n",
        "columns_to_convert = ['Coupon', 'Maturity_Start', 'Maturity_End']\n",
        "for col in columns_to_convert:\n",
        "    df[col] = pd.to_numeric(df[col], errors='coerce')\n",
        "\n",
        "# Save the updated DataFrame to a CSV file\n",
        "df.to_csv(\"All_Bond_URLs_Processed.csv\", index=False)\n",
        "\n",
        "print(\"Data processed and saved to raw_all_bond_links.csv\")\n",
        "\n",
        "# Display the DataFrame with the separated columns, including the original\n",
        "print(df[['URL', 'ISIN', 'Company + Kupon and Maturity', 'Company', 'Coupon', 'Maturity_Start', 'Maturity_End']].head())\n",
        "\n",
        "# Display the DataFrame with the separated columns (optional) as requested in the prompt\n",
        "print(df[['Company', 'Kupon_Maturity']].head())"
      ]
    },
    {
      "cell_type": "markdown",
      "metadata": {
        "id": "GexTKcxPjvf6"
      },
      "source": [
        "# Code for Green bond links\n",
        "The following code is slightly different as I already pre modified the green bond link data. This manual modification just created what the code above did in a first step, extracting the ISIN and the rest of the string into seperate columns, to subsequently run the below code that does a regex to extract the name of the bond emitters"
      ]
    },
    {
      "cell_type": "code",
      "execution_count": null,
      "metadata": {
        "colab": {
          "base_uri": "https://localhost:8080/"
        },
        "id": "j96UMWgBbuch",
        "outputId": "bc01f09f-5c19-49dd-fb2d-6261737af69c"
      },
      "outputs": [
        {
          "name": "stdout",
          "output_type": "stream",
          "text": [
            "Data processed and saved to Green_Bond_URLs_Processed.csv\n",
            "             Company + Kupon and Maturity                     Company Coupon  \\\n",
            "0  deutschland-bundesrepublik-0-000-20-25  deutschland-bundesrepublik  0.000   \n",
            "1          norwegen-koenigreich-1-5-16-26        norwegen-koenigreich    1.5   \n",
            "2      deutschland-bundesrepublik-1-15-25  deutschland-bundesrepublik      1   \n",
            "3    deutschland-bundesrepublik-3-1-23-25  deutschland-bundesrepublik    3.1   \n",
            "4    united-states-of-america-4-625-24-26    united-states-of-america  4.625   \n",
            "\n",
            "  Maturity_Start Maturity_End  \n",
            "0             20           25  \n",
            "1             16           26  \n",
            "2             15           25  \n",
            "3             23           25  \n",
            "4             24           26  \n",
            "Data processed and saved to Green_Bond_URLs_Processed.csv\n",
            "                      Company Kupon_Maturity\n",
            "0  deutschland-bundesrepublik    0-000-20-25\n",
            "1        norwegen-koenigreich      1-5-16-26\n",
            "2  deutschland-bundesrepublik        1-15-25\n",
            "3  deutschland-bundesrepublik      3-1-23-25\n",
            "4    united-states-of-america    4-625-24-26\n"
          ]
        }
      ],
      "source": [
        "import pandas as pd\n",
        "import re\n",
        "import os\n",
        "\n",
        "# Loading the data\n",
        "data_filepath = os.path.join(\"..\", \"data\", \"Static_data\", \"Green_Bond_URLs.xlsx\")\n",
        "excel_file = pd.ExcelFile(data_filepath)\n",
        "df = excel_file.parse(\"Data\")  # Parse the \"Data\" sheet into a DataFrame\n",
        "print(df.head())\n",
        "\n",
        "def split_coupon_maturity(text):\n",
        "    match = re.search(r\"(\\d+(?:\\.\\d+)?(?:-\\d+)+)$\", text)  # Improved regex\n",
        "    if match:\n",
        "        coupon_maturity = match.group(1)\n",
        "        company = text[:match.start()].rstrip('-')  # Exclude trailing hyphens\n",
        "        return company, coupon_maturity\n",
        "    return text.rstrip('-'), None  # Handle cases where no match is found\n",
        "\n",
        "df[['Company', 'Kupon_Maturity']] = df['Company + Kupon and Maturity'].apply(split_coupon_maturity).tolist()\n",
        "\n",
        "df['Company'] = df['Company'].str.replace(r'^-', '', regex=True)\n",
        "\n",
        "# Split Kupon_Maturity into Coupon, Maturity_Start, and Maturity_End\n",
        "def split_coupon_maturity_details(text):\n",
        "    if text:\n",
        "        parts = text.split('-')\n",
        "        if len(parts) >= 3:  # Ensure there are at least 3 parts (coupon and maturities)\n",
        "            maturity_start = parts[-2]\n",
        "            maturity_end = parts[-1]\n",
        "            coupon = '-'.join(parts[:-2]).replace('-', '.')  # Join remaining parts for coupon\n",
        "            return coupon, maturity_start, maturity_end\n",
        "    return None, None, None  # Handle cases where splitting fails\n",
        "\n",
        "df[['Coupon', 'Maturity_Start', 'Maturity_End']] = df['Kupon_Maturity'].apply(split_coupon_maturity_details).tolist()\n",
        "\n",
        "# Save the updated DataFrame back to a new CSV file (or overwrite the original)\n",
        "df.to_csv(\"Green_Bond_URLs_Processed.csv\", index=False)  # Save to a new CSV\n",
        "\n",
        "print(\"Data processed and saved to Green_Bond_URLs_Processed.csv\")\n",
        "\n",
        "# Display the DataFrame with the separated columns, including the original\n",
        "print(df[['Company + Kupon and Maturity', 'Company', 'Coupon', 'Maturity_Start', 'Maturity_End']].head())\n",
        "\n",
        "# Save the updated DataFrame back to a new CSV file (or overwrite the original)\n",
        "df.to_csv(\"Green_Bond_URLs_Processed.csv\", index=False)  # Save to a new CSV\n",
        "\n",
        "print(\"Data processed and saved to Green_Bond_URLs_Processed.csv\")\n",
        "\n",
        "# Display the DataFrame with the separated columns (optional)\n",
        "print(df[['Company', 'Kupon_Maturity']].head())"
      ]
    },
    {
      "cell_type": "markdown",
      "metadata": {
        "id": "FZFXOyFkjvf8"
      },
      "source": [
        "# Code To Merge csv Files and Create The Bond Dictionary"
      ]
    },
    {
      "cell_type": "code",
      "execution_count": null,
      "metadata": {
        "id": "cBpyPHzLjvf8",
        "outputId": "fae389ed-16c9-4e40-b864-59e2d6edf76a"
      },
      "outputs": [
        {
          "name": "stdout",
          "output_type": "stream",
          "text": [
            "                                                 URL          ISIN  \\\n",
            "0  https://www.boerse-frankfurt.de/anleihe/de0001...  de0001030716   \n",
            "1  https://www.boerse-frankfurt.de/anleihe/no0010...  no0010757925   \n",
            "2  https://www.boerse-frankfurt.de/anleihe/de0001...  de0001102382   \n",
            "3  https://www.boerse-frankfurt.de/anleihe/de000b...  de000bu22023   \n",
            "4  https://www.boerse-frankfurt.de/anleihe/us9128...  us91282ckb62   \n",
            "\n",
            "             Company + Kupon and Maturity                     Company  \\\n",
            "0  deutschland-bundesrepublik-0-000-20-25  deutschland-bundesrepublik   \n",
            "1          norwegen-koenigreich-1-5-16-26        norwegen-koenigreich   \n",
            "2      deutschland-bundesrepublik-1-15-25  deutschland-bundesrepublik   \n",
            "3    deutschland-bundesrepublik-3-1-23-25  deutschland-bundesrepublik   \n",
            "4    united-states-of-america-4-625-24-26    united-states-of-america   \n",
            "\n",
            "  Kupon_Maturity  Coupon  Maturity_Start  Maturity_End  \n",
            "0    0-000-20-25   0.000            20.0          25.0  \n",
            "1      1-5-16-26   1.500            16.0          26.0  \n",
            "2        1-15-25   1.000            15.0          25.0  \n",
            "3      3-1-23-25   3.100            23.0          25.0  \n",
            "4    4-625-24-26   4.625            24.0          26.0  \n",
            "                                                 URL          ISIN  \\\n",
            "0  https://www.boerse-frankfurt.de/anleihe/xs2694...  xs2694874533   \n",
            "1  https://www.boerse-frankfurt.de/anleihe/xs1702...  xs1702729275   \n",
            "2  https://www.boerse-frankfurt.de/anleihe/xs2482...  xs2482887879   \n",
            "3  https://www.boerse-frankfurt.de/anleihe/de000a...  de000a3lh6t7   \n",
            "4  https://www.boerse-frankfurt.de/anleihe/xs2694...  xs2694872594   \n",
            "\n",
            "  Company + Kupon and Maturity                                  Company  \\\n",
            "0                       #NAME?                  volkswagen-leasing-gmbh   \n",
            "1                       #NAME?           e-on-international-finance-b-v   \n",
            "2                       #NAME?                                   rwe-ag   \n",
            "3                       #NAME?  mercedes-benz-international-finance-b-v   \n",
            "4                       #NAME?                  volkswagen-leasing-gmbh   \n",
            "\n",
            "  Kupon_Maturity  Coupon  Maturity_Start  Maturity_End  \n",
            "0     4-75-23-31   4.750              23          31.0  \n",
            "1     1-25-17-27   1.250              17          27.0  \n",
            "2     2-75-22-30   2.750              22          30.0  \n",
            "3      3-5-23-26   3.500              23          26.0  \n",
            "4    4-625-23-29   4.625              23          29.0  \n",
            "<bound method DataFrame.info of                                                     URL          ISIN  \\\n",
            "0     https://www.boerse-frankfurt.de/anleihe/xs2694...  xs2694874533   \n",
            "1     https://www.boerse-frankfurt.de/anleihe/xs1702...  xs1702729275   \n",
            "2     https://www.boerse-frankfurt.de/anleihe/xs2482...  xs2482887879   \n",
            "3     https://www.boerse-frankfurt.de/anleihe/de000a...  de000a3lh6t7   \n",
            "4     https://www.boerse-frankfurt.de/anleihe/xs2694...  xs2694872594   \n",
            "...                                                 ...           ...   \n",
            "9668  https://www.boerse-frankfurt.de/anleihe/de000d...  de000dj9akf4   \n",
            "9669  https://www.boerse-frankfurt.de/anleihe/usn307...  usn30707an87   \n",
            "9670  https://www.boerse-frankfurt.de/anleihe/xs0188...  xs0188935174   \n",
            "9671  https://www.boerse-frankfurt.de/anleihe/xs2196...  xs2196328608   \n",
            "9672  https://www.boerse-frankfurt.de/anleihe/usn307...  usn30706vf42   \n",
            "\n",
            "                           Company + Kupon and Maturity  \\\n",
            "0                                                #NAME?   \n",
            "1                                                #NAME?   \n",
            "2                                                #NAME?   \n",
            "3                                                #NAME?   \n",
            "4                                                #NAME?   \n",
            "...                                                 ...   \n",
            "9668  dz-bank-ag-deutsche-zentral-genossenschaftsban...   \n",
            "9669          enel-finance-international-n-v-4-25-22-25   \n",
            "9670                                      axa-s-a-4-578   \n",
            "9671     enbw-energie-baden-wuerttemberg-ag-1-875-20-80   \n",
            "9672         enel-finance-international-n-v-2-875-21-41   \n",
            "\n",
            "                                                Company Kupon_Maturity  \\\n",
            "0                               volkswagen-leasing-gmbh     4-75-23-31   \n",
            "1                        e-on-international-finance-b-v     1-25-17-27   \n",
            "2                                                rwe-ag     2-75-22-30   \n",
            "3               mercedes-benz-international-finance-b-v      3-5-23-26   \n",
            "4                               volkswagen-leasing-gmbh    4-625-23-29   \n",
            "...                                                 ...            ...   \n",
            "9668  dz-bank-ag-deutsche-zentral-genossenschaftsban...     3-01-24-39   \n",
            "9669                     enel-finance-international-n-v     4-25-22-25   \n",
            "9670                                            axa-s-a          4-578   \n",
            "9671                 enbw-energie-baden-wuerttemberg-ag    1-875-20-80   \n",
            "9672                     enel-finance-international-n-v    2-875-21-41   \n",
            "\n",
            "      Coupon  Maturity_Start  Maturity_End  \n",
            "0      4.750            23.0          31.0  \n",
            "1      1.250            17.0          27.0  \n",
            "2      2.750            22.0          30.0  \n",
            "3      3.500            23.0          26.0  \n",
            "4      4.625            23.0          29.0  \n",
            "...      ...             ...           ...  \n",
            "9668   3.010            24.0          39.0  \n",
            "9669   4.250            22.0          25.0  \n",
            "9670   4.000             NaN         578.0  \n",
            "9671   1.875            20.0          80.0  \n",
            "9672   2.875            21.0          41.0  \n",
            "\n",
            "[9673 rows x 8 columns]>\n",
            "Successfully added rows.\n",
            "file saved to ..\\data\\Static_data\\bond_dictionary/bond_dictionary.csv\n"
          ]
        }
      ],
      "source": [
        "import pandas as pd\n",
        "import os\n",
        "\n",
        "def add_rows_based_on_company(all_bonds_df, green_bonds_df):\n",
        "    try:\n",
        "        # Get the set of unique company names from Green_Bond_URLs_Processed\n",
        "        green_companies = set(green_bonds_df['Company'].str.strip()) # Using 'Company' as in the image and trimming whitespace\n",
        "\n",
        "        rows_to_append = []\n",
        "\n",
        "        # Iterate through each row of All_Bond_URLs_Processed\n",
        "        for index, row in all_bonds_df.iterrows():\n",
        "            company_name = str(row['Company']).strip() # Using 'Company' as in the image and trimming whitespace\n",
        "            if company_name in green_companies:\n",
        "                rows_to_append.append(row)\n",
        "\n",
        "        # If there are rows to append, convert them to DataFrame and append to green_bonds_df\n",
        "        if rows_to_append:\n",
        "            append_df = pd.DataFrame(rows_to_append)\n",
        "            green_bonds_df = pd.concat([green_bonds_df, append_df], ignore_index=True)\n",
        "\n",
        "        # Save the updated Green_Bond_URLs_Processed.csv\n",
        "        output_filepath = os.path.join(\"..\", \"data\", \"Static_data\", \"bond_dictionary\") + \"/bond_dictionary.csv\"\n",
        "        green_bonds_df.to_csv(output_filepath, index=False)\n",
        "        print(green_bonds_df.info)\n",
        "        print(f\"Successfully added rows.\")\n",
        "        print(f\"file saved to {output_filepath}\")\n",
        "\n",
        "    except FileNotFoundError:\n",
        "        print(\"Error: One or both of the CSV files were not found. Please check the file paths.\")\n",
        "    except KeyError as e:\n",
        "        print(f\"Error: Column '{e}' not found in one or both of the CSV files. Please check the column names.\")\n",
        "    except Exception as e:\n",
        "        print(f\"An unexpected error occurred: {e}\")\n",
        "\n",
        "# Loading the data\n",
        "data_filepath = os.path.join(\"..\", \"data\", \"Static_data\", \"All_Bond_URLs_Processed.csv\")\n",
        "df_all = pd.read_csv(data_filepath)\n",
        "print(df_all.head())\n",
        "\n",
        "data_filepath_green = os.path.join(\"..\", \"data\", \"Static_data\", \"Green_Bond_URLs_Processed.csv\")\n",
        "df_green = pd.read_csv(data_filepath_green)\n",
        "print(df_green.head())\n",
        "\n",
        "add_rows_based_on_company(df_all, df_green)"
      ]
    },
    {
      "cell_type": "markdown",
      "metadata": {
        "id": "QyZLsR6djvf9"
      },
      "source": [
        "We have 9673 bonds in our merged data set. We have 147 Unique values, the same amount as in our original green bond data indicating that the merged on company name worked well."
      ]
    },
    {
      "cell_type": "markdown",
      "source": [
        "# Code to merge bond_dictionary with Static_data"
      ],
      "metadata": {
        "id": "hL8EcVObj2Sj"
      }
    },
    {
      "cell_type": "code",
      "source": [
        "import pandas as pd\n",
        "\n",
        "url_static = \"https://github.com/Fijiman001/EGR-Empirical-Project/raw/main/data/Static_data/Cleaned_Static_Data.xlsx\"\n",
        "url_dictionary = \"https://raw.githubusercontent.com/Fijiman001/EGR-Empirical-Project/refs/heads/main/data/Static_data/bond_dictionary/bond_dictionary_cleaned.csv\"\n",
        "\n",
        "df_bond_dictionary = pd.read_csv(url_dictionary)\n",
        "df_static_data = pd.read_excel(url_static)\n",
        "# print(df_bond_dictionary.head())\n",
        "# print(df_static_data.head())"
      ],
      "metadata": {
        "id": "sZj2cmoDj9zE"
      },
      "execution_count": 5,
      "outputs": []
    },
    {
      "cell_type": "code",
      "source": [
        "# Merging the two dataframes using a left join on the 'URL' column\n",
        "df = df_bond_dictionary.merge(df_static_data, on='URL', how='left')\n",
        "\n",
        "# Display the first few rows of the merged dataframe\n",
        "print(df.head())\n",
        "df.to_csv(\"bond_universe_raw.csv\", index=False)"
      ],
      "metadata": {
        "colab": {
          "base_uri": "https://localhost:8080/"
        },
        "id": "kIKmJUMAmRZi",
        "outputId": "0d3df7c8-80b7-43cd-df90-c8f7fe801c3f"
      },
      "execution_count": 7,
      "outputs": [
        {
          "output_type": "stream",
          "name": "stdout",
          "text": [
            "                                                 URL          ISIN  \\\n",
            "0  https://www.boerse-frankfurt.de/anleihe/xs2694...  xs2694874533   \n",
            "1  https://www.boerse-frankfurt.de/anleihe/xs2694...  xs2694874533   \n",
            "2  https://www.boerse-frankfurt.de/anleihe/xs2482...  xs2482887879   \n",
            "3  https://www.boerse-frankfurt.de/anleihe/xs2482...  xs2482887879   \n",
            "4  https://www.boerse-frankfurt.de/anleihe/de000a...  de000a3lh6t7   \n",
            "\n",
            "  Company + Kupon and Maturity                                  Company  \\\n",
            "0                       #NAME?                  volkswagen-leasing-gmbh   \n",
            "1                       #NAME?                  volkswagen-leasing-gmbh   \n",
            "2                       #NAME?                                   rwe-ag   \n",
            "3                       #NAME?                                   rwe-ag   \n",
            "4                       #NAME?  mercedes-benz-international-finance-b-v   \n",
            "\n",
            "  Kupon_Maturity  Coupon  Maturity_Start  Maturity_End  is_green  \\\n",
            "0     4-75-23-31    4.75              23            31         1   \n",
            "1     4-75-23-31    4.75              23            31         1   \n",
            "2     2-75-22-30    2.75              22            30         1   \n",
            "3     2-75-22-30    2.75              22            30         1   \n",
            "4      3-5-23-26    3.50              23            26         1   \n",
            "\n",
            "  Letzter Preis  ... Nachrangig  Kleinste handelbare Einheit  \\\n",
            "0        106,88  ...        NaN                       1000.0   \n",
            "1        106,88  ...        NaN                       1000.0   \n",
            "2         99,19  ...        NaN                       1000.0   \n",
            "3         99,19  ...        NaN                       1000.0   \n",
            "4        101,46  ...        NaN                       1000.0   \n",
            "\n",
            "             Spezialist         Handelsmodell Emissionsdatum Emissionsvolumen  \\\n",
            "0  WOLFGANG STEUBING AG  Fortlaufende Auktion     25,09,2023     7.000000e+08   \n",
            "1  WOLFGANG STEUBING AG  Fortlaufende Auktion     25,09,2023     7.000000e+08   \n",
            "2  WOLFGANG STEUBING AG  Fortlaufende Auktion     24,05,2022     1.000000e+09   \n",
            "3  WOLFGANG STEUBING AG  Fortlaufende Auktion     24,05,2022     1.000000e+09   \n",
            "4  WOLFGANG STEUBING AG  Fortlaufende Auktion     30,05,2023     1.000000e+09   \n",
            "\n",
            "  Umlaufendes Volumen EmissionswÃ¤hrung DepotwÃ¤hrung Notierungsaufnahme  \n",
            "0        7.000000e+08               EUR           EUR         20,09,2023  \n",
            "1        7.000000e+08               EUR           EUR         20,09,2023  \n",
            "2        1.000000e+09               EUR           EUR         20,05,2022  \n",
            "3        1.000000e+09               EUR           EUR         20,05,2022  \n",
            "4        1.000000e+09               EUR           EUR         24,05,2023  \n",
            "\n",
            "[5 rows x 31 columns]\n"
          ]
        }
      ]
    },
    {
      "cell_type": "markdown",
      "source": [
        "# Code to Clean bond_universe"
      ],
      "metadata": {
        "id": "2wyFrRXrm8Ge"
      }
    },
    {
      "cell_type": "markdown",
      "source": [
        "- We remove bonds that have \"non passive\" options: we remove entries in the column \"SchuldnerkÃƒÂ¼ndigungsart\" that have \"call option\".\n",
        "- Remove duplicate column \"Company + Kupon and Maturity\"\n",
        "- Remove any columns with missing data\n",
        "- Remove duplicates based on columns \"URL\",\"ISIN\",\"Company\",\"Kupon_Maturity\",\"Coupon\",\"Maturity_Start\",\"Maturity_End\",\"is_green\"\n",
        "- Create emission year fixed effects, column \"Emissionsdatum\", value format is \"25,09,2023\"\n",
        "\n",
        "We try removing entries with \"special call\"?\n",
        "Remove entries where column \"Branche\" has entry \"Schuldverschreibungen von Sonderinstituten\""
      ],
      "metadata": {
        "id": "Q_A-8YjDm_V6"
      }
    },
    {
      "cell_type": "code",
      "source": [
        "df = pd.read_csv(\"bond_universe_raw.csv\")"
      ],
      "metadata": {
        "id": "wLUacKcZuHmy"
      },
      "execution_count": 89,
      "outputs": []
    },
    {
      "cell_type": "code",
      "source": [
        "df.columns = df.columns.str.strip()  # Remove leading/trailing spaces\n",
        "df.columns = df.columns.str.replace(\"Ã¤\", \"ä\").str.replace(\"Ã¼\", \"ü\")  # Fix encoding issues\n",
        "\n",
        "# 1. Remove bonds with a \"Call option\" in \"Schuldnerkündigungsart\"\n",
        "df.drop(df[df['Schuldnerkündigungsart'] == 'Call option'].index, inplace=True)\n",
        "\n",
        "# 2. Remove duplicate column \"Company + Kupon and Maturity\"\n",
        "if \"Company + Kupon and Maturity\" in df.columns:\n",
        "    df = df.drop(columns=[\"Company + Kupon and Maturity\"])\n",
        "\n",
        "# 4. Remove duplicates based on the selected columns while keeping all columns\n",
        "subset_cols = [\n",
        "    'URL', 'ISIN', 'Company', 'Kupon_Maturity', 'Coupon', 'Maturity_Start',\n",
        "    'Maturity_End', 'is_green', 'Letzter Preis', 'Modified Duration', 'Kupon',\n",
        "    'Emittent', 'Branche', 'Fälligkeit', 'Schuldnerkündigungsart', 'Sonderkündigung',\n",
        "    'Nachrangig', 'Kleinste handelbare Einheit', 'Spezialist', 'Emissionsdatum',\n",
        "    'Emissionsvolumen', 'Umlaufendes Volumen', 'Emissionswährung', 'Depotwährung',\n",
        "    'Notierungsaufnahme'\n",
        "]\n",
        "df = df.drop_duplicates(subset=subset_cols, keep=\"first\")\n",
        "\n",
        "# 5. Create emission year fixed effects from \"Emissionsdatum\"\n",
        "if \"Emissionsdatum\" in df.columns:\n",
        "    df[\"Emissionsdatum\"] = pd.to_datetime(df[\"Emissionsdatum\"], format=\"%d,%m,%Y\", errors=\"coerce\")\n",
        "    df[\"Emission_year\"] = df[\"Emissionsdatum\"].dt.year\n",
        "    # Create dummy variables for emission year (fixed effects)\n",
        "    df = pd.get_dummies(df, columns=[\"Emission_year\"], prefix=\"Emission_year\", drop_first=False)\n",
        "\n",
        "# (Optional) Display the first few rows to verify the changes\n",
        "print(df.head())\n",
        "df.to_csv(\"bond_universe_cleaned.csv\", index=False)"
      ],
      "metadata": {
        "colab": {
          "base_uri": "https://localhost:8080/"
        },
        "id": "l4pnC4kSp58V",
        "outputId": "42e9d688-4b0d-4df7-c646-e94216b872dd"
      },
      "execution_count": 90,
      "outputs": [
        {
          "output_type": "stream",
          "name": "stdout",
          "text": [
            "                                                 URL          ISIN  \\\n",
            "0  https://www.boerse-frankfurt.de/anleihe/xs2694...  xs2694874533   \n",
            "2  https://www.boerse-frankfurt.de/anleihe/xs2482...  xs2482887879   \n",
            "3  https://www.boerse-frankfurt.de/anleihe/xs2482...  xs2482887879   \n",
            "4  https://www.boerse-frankfurt.de/anleihe/de000a...  de000a3lh6t7   \n",
            "5  https://www.boerse-frankfurt.de/anleihe/de000a...  de000a3lh6t7   \n",
            "\n",
            "                                   Company Kupon_Maturity  Coupon  \\\n",
            "0                  volkswagen-leasing-gmbh     4-75-23-31    4.75   \n",
            "2                                   rwe-ag     2-75-22-30    2.75   \n",
            "3                                   rwe-ag     2-75-22-30    2.75   \n",
            "4  mercedes-benz-international-finance-b-v      3-5-23-26    3.50   \n",
            "5  mercedes-benz-international-finance-b-v      3-5-23-26    3.50   \n",
            "\n",
            "   Maturity_Start  Maturity_End  is_green Letzter Preis  \\\n",
            "0              23            31         1        106,88   \n",
            "2              22            30         1         99,19   \n",
            "3              22            30         1         99,19   \n",
            "4              23            26         1        101,46   \n",
            "5              23            26         1        101,46   \n",
            "\n",
            "  Veränderung zum Vortag  ...  Umlaufendes Volumen Emissionswährung  \\\n",
            "0                  1,08%  ...         7.000000e+08              EUR   \n",
            "2                 -0,09%  ...         1.000000e+09              EUR   \n",
            "3                 -0,09%  ...         1.000000e+09              EUR   \n",
            "4                  0,03%  ...         1.000000e+09              EUR   \n",
            "5                  0,03%  ...         1.000000e+09              EUR   \n",
            "\n",
            "   Depotwährung Notierungsaufnahme Emission_year_2020.0 Emission_year_2021.0  \\\n",
            "0           EUR         20,09,2023                False                False   \n",
            "2           EUR         20,05,2022                False                False   \n",
            "3           EUR         20,05,2022                False                False   \n",
            "4           EUR         24,05,2023                False                False   \n",
            "5           EUR         24,05,2023                False                False   \n",
            "\n",
            "  Emission_year_2022.0 Emission_year_2023.0 Emission_year_2024.0  \\\n",
            "0                False                 True                False   \n",
            "2                 True                False                False   \n",
            "3                 True                False                False   \n",
            "4                False                 True                False   \n",
            "5                False                 True                False   \n",
            "\n",
            "  Emission_year_2025.0  \n",
            "0                False  \n",
            "2                False  \n",
            "3                False  \n",
            "4                False  \n",
            "5                False  \n",
            "\n",
            "[5 rows x 36 columns]\n"
          ]
        }
      ]
    }
  ],
  "metadata": {
    "colab": {
      "provenance": []
    },
    "kernelspec": {
      "display_name": "Python 3",
      "language": "python",
      "name": "python3"
    },
    "language_info": {
      "codemirror_mode": {
        "name": "ipython",
        "version": 3
      },
      "file_extension": ".py",
      "mimetype": "text/x-python",
      "name": "python",
      "nbconvert_exporter": "python",
      "pygments_lexer": "ipython3",
      "version": "3.12.6"
    }
  },
  "nbformat": 4,
  "nbformat_minor": 0
}