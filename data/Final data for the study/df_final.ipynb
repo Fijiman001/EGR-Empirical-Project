{
  "cells": [
    {
      "cell_type": "markdown",
      "metadata": {
        "colab_type": "text",
        "id": "view-in-github"
      },
      "source": [
        "<a href=\"https://colab.research.google.com/github/Fijiman001/EGR-Empirical-Project/blob/main/data/Final%20data%20for%20the%20study/df_final.ipynb\" target=\"_parent\"><img src=\"https://colab.research.google.com/assets/colab-badge.svg\" alt=\"Open In Colab\"/></a>"
      ]
    },
    {
      "cell_type": "code",
      "execution_count": null,
      "metadata": {
        "colab": {
          "base_uri": "https://localhost:8080/"
        },
        "id": "mhFcExUwzfJb",
        "outputId": "44e27d39-6e94-4a53-cdfe-62ea296d30c9"
      },
      "outputs": [
        {
          "name": "stdout",
          "output_type": "stream",
          "text": [
            "                        Name Clean_Company_Maturity     WKN  \\\n",
            "0       E.ON SE 0,375% 20/27    e on se 0 375 20 27  A254QR   \n",
            "1       E.ON SE 0,375% 20/27    e on se 0 375 20 27  A254QR   \n",
            "2       E.ON SE 0,375% 20/27    e on se 0 375 20 27  A254QR   \n",
            "3       E.ON SE 0,375% 20/27    e on se 0 375 20 27  A254QR   \n",
            "4       E.ON SE 0,375% 20/27    e on se 0 375 20 27  A254QR   \n",
            "...                      ...                    ...     ...   \n",
            "12622  Talanx AG 1,75% 21/42   talanx ag 1 75 21 42  TLX310   \n",
            "12623  Talanx AG 1,75% 21/42   talanx ag 1 75 21 42  TLX310   \n",
            "12624  Talanx AG 1,75% 21/42   talanx ag 1 75 21 42  TLX310   \n",
            "12625  Talanx AG 1,75% 21/42   talanx ag 1 75 21 42  TLX310   \n",
            "12626  Talanx AG 1,75% 21/42   talanx ag 1 75 21 42  TLX310   \n",
            "\n",
            "                                                     URL          ISIN  \\\n",
            "0      https://www.boerse-frankfurt.de/anleihe/xs2103...  xs2103014291   \n",
            "1      https://www.boerse-frankfurt.de/anleihe/xs2103...  xs2103014291   \n",
            "2      https://www.boerse-frankfurt.de/anleihe/xs2103...  xs2103014291   \n",
            "3      https://www.boerse-frankfurt.de/anleihe/xs2103...  xs2103014291   \n",
            "4      https://www.boerse-frankfurt.de/anleihe/xs2103...  xs2103014291   \n",
            "...                                                  ...           ...   \n",
            "12622  https://www.boerse-frankfurt.de/anleihe/xs2411...  xs2411241693   \n",
            "12623  https://www.boerse-frankfurt.de/anleihe/xs2411...  xs2411241693   \n",
            "12624  https://www.boerse-frankfurt.de/anleihe/xs2411...  xs2411241693   \n",
            "12625  https://www.boerse-frankfurt.de/anleihe/xs2411...  xs2411241693   \n",
            "12626  https://www.boerse-frankfurt.de/anleihe/xs2411...  xs2411241693   \n",
            "\n",
            "         Company Kupon_Maturity  Coupon  Maturity_Start  Maturity_End  \\\n",
            "0        e on se    0 375 20 27   0.375              20            27   \n",
            "1        e on se    0 375 20 27   0.375              20            27   \n",
            "2        e on se    0 375 20 27   0.375              20            27   \n",
            "3        e on se    0 375 20 27   0.375              20            27   \n",
            "4        e on se    0 375 20 27   0.375              20            27   \n",
            "...          ...            ...     ...             ...           ...   \n",
            "12622  talanx ag     1 75 21 42   1.750              21            42   \n",
            "12623  talanx ag     1 75 21 42   1.750              21            42   \n",
            "12624  talanx ag     1 75 21 42   1.750              21            42   \n",
            "12625  talanx ag     1 75 21 42   1.750              21            42   \n",
            "12626  talanx ag     1 75 21 42   1.750              21            42   \n",
            "\n",
            "       is_green  Last Price              DateTime  Volume in Euro  +/- %  \\\n",
            "0             1       94.47  2025-01-02T08:40:00Z             0.0   0,19   \n",
            "1             1       94.37  2025-01-02T10:53:00Z             0.0   0,08   \n",
            "2             1       94.44  2025-01-02T13:47:00Z             0.0   0,16   \n",
            "3             1       94.35  2025-01-03T08:40:00Z             0.0   0,00   \n",
            "4             1       94.24  2025-01-03T11:30:00Z             0.0  -0,11   \n",
            "...         ...         ...                   ...             ...    ...   \n",
            "12622         1       86.17  2025-01-31T08:15:00Z             0.0  -0,07   \n",
            "12623         1       86.27  2025-01-31T10:00:00Z             0.0   0,05   \n",
            "12624         1       86.60  2025-01-31T14:00:00Z             0.0   0,43   \n",
            "12625         1       86.59  2025-01-31T15:00:00Z             0.0   0,42   \n",
            "12626         1       86.69  2025-01-31T16:00:00Z             0.0   0,53   \n",
            "\n",
            "      Currency YTM  \n",
            "0         Euro   -  \n",
            "1         Euro   -  \n",
            "2         Euro   -  \n",
            "3         Euro   -  \n",
            "4         Euro   -  \n",
            "...        ...  ..  \n",
            "12622     Euro   -  \n",
            "12623     Euro   -  \n",
            "12624     Euro   -  \n",
            "12625     Euro   -  \n",
            "12626     Euro   -  \n",
            "\n",
            "[12627 rows x 17 columns]\n"
          ]
        }
      ],
      "source": [
        "import pandas as pd\n",
        "\n",
        "# path C:\\Users\\Alex\\Documents\\GitHub\\EGR-Empirical-Project\\data\\Final data for the study\\merging_done_6.csv\n",
        "# df = pd.read_csv(path)\n",
        "df = pd.read_csv('merging_done_6.csv')\n",
        "df.drop(columns=['Company + Kupon and Maturity'], inplace=True)\n",
        "print(df)"
      ]
    },
    {
      "cell_type": "markdown",
      "metadata": {
        "id": "a9kpyzC_HltX"
      },
      "source": [
        "We do some last data cleaning, removing rows with bad data and rows were prices seem wrong, e.g. last price = 1000"
      ]
    },
    {
      "cell_type": "code",
      "execution_count": 11,
      "metadata": {
        "colab": {
          "base_uri": "https://localhost:8080/"
        },
        "id": "rxUCCGq901s4",
        "outputId": "0edda878-d8a6-45c3-94ee-0f04428e55fb"
      },
      "outputs": [
        {
          "name": "stdout",
          "output_type": "stream",
          "text": [
            "Name                      21\n",
            "Clean_Company_Maturity    21\n",
            "WKN                       21\n",
            "URL                       21\n",
            "ISIN                      21\n",
            "Company                   21\n",
            "Kupon_Maturity            21\n",
            "Coupon                    21\n",
            "Maturity_Start            21\n",
            "Maturity_End              21\n",
            "is_green                  21\n",
            "Last Price                21\n",
            "DateTime                  21\n",
            "Volume in Euro            21\n",
            "+/- %                     21\n",
            "Currency                  21\n",
            "YTM                       21\n",
            "dtype: int64\n"
          ]
        }
      ],
      "source": [
        "max_last_price = df['Last Price'].max()\n",
        "max_last_price_row = df[df['Last Price'] == max_last_price]\n",
        "print(max_last_price_row.count())\n",
        "df.drop(df[df['Last Price'] == max_last_price].index, inplace=True)"
      ]
    },
    {
      "cell_type": "markdown",
      "metadata": {
        "id": "18FowxuiH7hg"
      },
      "source": [
        "we also interestingly have a good mix of currencies"
      ]
    },
    {
      "cell_type": "code",
      "execution_count": 12,
      "metadata": {
        "colab": {
          "base_uri": "https://localhost:8080/"
        },
        "id": "Q_HV0tRy0-Sn",
        "outputId": "eee7dc70-c35c-400f-f512-7f21a8353ad0"
      },
      "outputs": [
        {
          "data": {
            "text/plain": [
              "array(['Euro', 'US-Dollar', 'Canadische Dollar', 'Real (Brasilien)',\n",
              "       'Zloty (Polen)', 'Kolumbianische Pesos', 'Britische Pfund',\n",
              "       'Neuseeland-Dollar', 'Norwegische Kronen', 'Ungarische Forint',\n",
              "       'Südafrikanische Rand', 'Australische Dollar', 'Türkische Lira'],\n",
              "      dtype=object)"
            ]
          },
          "execution_count": 12,
          "metadata": {},
          "output_type": "execute_result"
        }
      ],
      "source": [
        "df['Currency'].unique()"
      ]
    },
    {
      "cell_type": "markdown",
      "metadata": {
        "id": "EfwEr4aaJHmz"
      },
      "source": [
        "# Last merge with additional static data for exact maturity date"
      ]
    },
    {
      "cell_type": "code",
      "execution_count": 13,
      "metadata": {
        "colab": {
          "base_uri": "https://localhost:8080/"
        },
        "id": "UIXcATWOJMbM",
        "outputId": "bf71f5f0-931f-414d-9702-305a9a1b5571"
      },
      "outputs": [
        {
          "name": "stdout",
          "output_type": "stream",
          "text": [
            "Index(['URL', 'ISIN', 'Company', 'Kupon_Maturity', 'Coupon', 'Maturity_Start',\n",
            "       'Maturity_End', 'is_green', 'Letzter Preis', 'Veränderung zum Vortag',\n",
            "       'Letzter Handel', 'Geld', 'Brief', 'Modified Duration', 'Kupon',\n",
            "       'Emittent', 'Branche', 'Fälligkeit', 'Schuldnerkündigungsart',\n",
            "       'Sonderkündigung', 'Nachrangig', 'Kleinste handelbare Einheit',\n",
            "       'Spezialist', 'Handelsmodell', 'Emissionsdatum', 'Emissionsvolumen',\n",
            "       'Umlaufendes Volumen', 'Emissionswährung', 'Depotwährung',\n",
            "       'Notierungsaufnahme', 'Emission_year_2020.0', 'Emission_year_2021.0',\n",
            "       'Emission_year_2022.0', 'Emission_year_2023.0', 'Emission_year_2024.0',\n",
            "       'Emission_year_2025.0'],\n",
            "      dtype='object')\n",
            "                                                    URL          ISIN  \\\n",
            "0     https://www.boerse-frankfurt.de/anleihe/xs2694...  xs2694874533   \n",
            "1     https://www.boerse-frankfurt.de/anleihe/xs2482...  xs2482887879   \n",
            "2     https://www.boerse-frankfurt.de/anleihe/xs2482...  xs2482887879   \n",
            "3     https://www.boerse-frankfurt.de/anleihe/de000a...  de000a3lh6t7   \n",
            "4     https://www.boerse-frankfurt.de/anleihe/de000a...  de000a3lh6t7   \n",
            "...                                                 ...           ...   \n",
            "4068  https://www.boerse-frankfurt.de/anleihe/xs2264...  xs2264087110   \n",
            "4069  https://www.boerse-frankfurt.de/anleihe/xs2293...  xs2293889759   \n",
            "4070  https://www.boerse-frankfurt.de/anleihe/xs2714...  xs2714338592   \n",
            "4071  https://www.boerse-frankfurt.de/anleihe/de000d...  de000dj9akf4   \n",
            "4072  https://www.boerse-frankfurt.de/anleihe/usn307...  usn30706vf42   \n",
            "\n",
            "                                                Company Kupon_Maturity  \\\n",
            "0                               volkswagen-leasing-gmbh     4-75-23-31   \n",
            "1                                                rwe-ag     2-75-22-30   \n",
            "2                                                rwe-ag     2-75-22-30   \n",
            "3               mercedes-benz-international-finance-b-v      3-5-23-26   \n",
            "4               mercedes-benz-international-finance-b-v      3-5-23-26   \n",
            "...                                                 ...            ...   \n",
            "4068                         cooeperatieve-rabobank-u-a     0-01-20-40   \n",
            "4069                         international-finance-corp     6-25-21-28   \n",
            "4070                                     stora-enso-oyj        5-23-28   \n",
            "4071  dz-bank-ag-deutsche-zentral-genossenschaftsban...     3-01-24-39   \n",
            "4072                     enel-finance-international-n-v    2-875-21-41   \n",
            "\n",
            "      Coupon  Maturity_Start  Maturity_End  is_green Letzter Preis  \\\n",
            "0      4.750              23            31         1        106,88   \n",
            "1      2.750              22            30         1         99,19   \n",
            "2      2.750              22            30         1         99,19   \n",
            "3      3.500              23            26         1        101,46   \n",
            "4      3.500              23            26         1        101,46   \n",
            "...      ...             ...           ...       ...           ...   \n",
            "4068   0.010              20            40         0         60,66   \n",
            "4069   6.250              21            28         0         82,36   \n",
            "4070   5.000              23            28         0        105,08   \n",
            "4071   3.010              24            39         0         97,36   \n",
            "4072   2.875              21            41         0         18,87   \n",
            "\n",
            "     Veränderung zum Vortag  ...  Umlaufendes Volumen Emissionswährung  \\\n",
            "0                     1,08%  ...         7.000000e+08              EUR   \n",
            "1                    -0,09%  ...         1.000000e+09              EUR   \n",
            "2                    -0,09%  ...         1.000000e+09              EUR   \n",
            "3                     0,03%  ...         1.000000e+09              EUR   \n",
            "4                     0,03%  ...         1.000000e+09              EUR   \n",
            "...                     ...  ...                  ...              ...   \n",
            "4068                 -0,56%  ...         1.200000e+09              EUR   \n",
            "4069                  0,15%  ...         1.500000e+08              BRL   \n",
            "4070                 -0,04%  ...         2.250000e+09              SEK   \n",
            "4071                  0,15%  ...         1.000000e+07              EUR   \n",
            "4072                  0,00%  ...         7.500000e+08              USD   \n",
            "\n",
            "      Depotwährung Notierungsaufnahme Emission_year_2020.0  \\\n",
            "0              EUR         20,09,2023                False   \n",
            "1              EUR         20,05,2022                False   \n",
            "2              EUR         20,05,2022                False   \n",
            "3              EUR         24,05,2023                False   \n",
            "4              EUR         24,05,2023                False   \n",
            "...            ...                ...                  ...   \n",
            "4068           EUR         23,11,2020                 True   \n",
            "4069           BRL         08,01,2024                False   \n",
            "4070           SEK         07,11,2023                False   \n",
            "4071           EUR         03,05,2024                False   \n",
            "4072           USD         12,07,2021                False   \n",
            "\n",
            "     Emission_year_2021.0 Emission_year_2022.0 Emission_year_2023.0  \\\n",
            "0                   False                False                 True   \n",
            "1                   False                 True                False   \n",
            "2                   False                 True                False   \n",
            "3                   False                False                 True   \n",
            "4                   False                False                 True   \n",
            "...                   ...                  ...                  ...   \n",
            "4068                False                False                False   \n",
            "4069                 True                False                False   \n",
            "4070                False                False                 True   \n",
            "4071                False                False                False   \n",
            "4072                 True                False                False   \n",
            "\n",
            "     Emission_year_2024.0 Emission_year_2025.0  \n",
            "0                   False                False  \n",
            "1                   False                False  \n",
            "2                   False                False  \n",
            "3                   False                False  \n",
            "4                   False                False  \n",
            "...                   ...                  ...  \n",
            "4068                False                False  \n",
            "4069                False                False  \n",
            "4070                False                False  \n",
            "4071                 True                False  \n",
            "4072                False                False  \n",
            "\n",
            "[4073 rows x 36 columns]\n"
          ]
        }
      ],
      "source": [
        "df_universe = pd.read_csv('bond_universe_cleaned_1.csv')\n",
        "print(df_universe.columns)\n",
        "print(df_universe)"
      ]
    },
    {
      "cell_type": "code",
      "execution_count": 14,
      "metadata": {
        "colab": {
          "base_uri": "https://localhost:8080/"
        },
        "id": "rMfvXUOdKN9s",
        "outputId": "cbee4e47-1d06-4a59-b0b8-bbc105871759"
      },
      "outputs": [
        {
          "name": "stdout",
          "output_type": "stream",
          "text": [
            "ISIN\n",
            "xs2240978085    4\n",
            "be6327721237    4\n",
            "de000a3e5fr9    4\n",
            "de000a289qr9    4\n",
            "xs2553554812    4\n",
            "               ..\n",
            "xs2703618541    1\n",
            "de000blb6jp7    1\n",
            "de000blb6jq5    1\n",
            "de000blb6jr3    1\n",
            "usn30706vf42    1\n",
            "Name: count, Length: 3607, dtype: int64\n",
            "                        Name Clean_Company_Maturity     WKN  \\\n",
            "0       E.ON SE 0,375% 20/27    e on se 0 375 20 27  A254QR   \n",
            "1       E.ON SE 0,375% 20/27    e on se 0 375 20 27  A254QR   \n",
            "2       E.ON SE 0,375% 20/27    e on se 0 375 20 27  A254QR   \n",
            "3       E.ON SE 0,375% 20/27    e on se 0 375 20 27  A254QR   \n",
            "4       E.ON SE 0,375% 20/27    e on se 0 375 20 27  A254QR   \n",
            "...                      ...                    ...     ...   \n",
            "12601  Talanx AG 1,75% 21/42   talanx ag 1 75 21 42  TLX310   \n",
            "12602  Talanx AG 1,75% 21/42   talanx ag 1 75 21 42  TLX310   \n",
            "12603  Talanx AG 1,75% 21/42   talanx ag 1 75 21 42  TLX310   \n",
            "12604  Talanx AG 1,75% 21/42   talanx ag 1 75 21 42  TLX310   \n",
            "12605  Talanx AG 1,75% 21/42   talanx ag 1 75 21 42  TLX310   \n",
            "\n",
            "                                                     URL          ISIN  \\\n",
            "0      https://www.boerse-frankfurt.de/anleihe/xs2103...  xs2103014291   \n",
            "1      https://www.boerse-frankfurt.de/anleihe/xs2103...  xs2103014291   \n",
            "2      https://www.boerse-frankfurt.de/anleihe/xs2103...  xs2103014291   \n",
            "3      https://www.boerse-frankfurt.de/anleihe/xs2103...  xs2103014291   \n",
            "4      https://www.boerse-frankfurt.de/anleihe/xs2103...  xs2103014291   \n",
            "...                                                  ...           ...   \n",
            "12601  https://www.boerse-frankfurt.de/anleihe/xs2411...  xs2411241693   \n",
            "12602  https://www.boerse-frankfurt.de/anleihe/xs2411...  xs2411241693   \n",
            "12603  https://www.boerse-frankfurt.de/anleihe/xs2411...  xs2411241693   \n",
            "12604  https://www.boerse-frankfurt.de/anleihe/xs2411...  xs2411241693   \n",
            "12605  https://www.boerse-frankfurt.de/anleihe/xs2411...  xs2411241693   \n",
            "\n",
            "         Company Kupon_Maturity  Coupon  Maturity_Start  Maturity_End  ...  \\\n",
            "0        e on se    0 375 20 27   0.375              20            27  ...   \n",
            "1        e on se    0 375 20 27   0.375              20            27  ...   \n",
            "2        e on se    0 375 20 27   0.375              20            27  ...   \n",
            "3        e on se    0 375 20 27   0.375              20            27  ...   \n",
            "4        e on se    0 375 20 27   0.375              20            27  ...   \n",
            "...          ...            ...     ...             ...           ...  ...   \n",
            "12601  talanx ag     1 75 21 42   1.750              21            42  ...   \n",
            "12602  talanx ag     1 75 21 42   1.750              21            42  ...   \n",
            "12603  talanx ag     1 75 21 42   1.750              21            42  ...   \n",
            "12604  talanx ag     1 75 21 42   1.750              21            42  ...   \n",
            "12605  talanx ag     1 75 21 42   1.750              21            42  ...   \n",
            "\n",
            "       Umlaufendes Volumen  Emissionswährung Depotwährung  Notierungsaufnahme  \\\n",
            "0             1.000000e+09               EUR          EUR          14,01,2020   \n",
            "1             1.000000e+09               EUR          EUR          14,01,2020   \n",
            "2             1.000000e+09               EUR          EUR          14,01,2020   \n",
            "3             1.000000e+09               EUR          EUR          14,01,2020   \n",
            "4             1.000000e+09               EUR          EUR          14,01,2020   \n",
            "...                    ...               ...          ...                 ...   \n",
            "12601                  NaN               NaN          NaN                 NaN   \n",
            "12602                  NaN               NaN          NaN                 NaN   \n",
            "12603                  NaN               NaN          NaN                 NaN   \n",
            "12604                  NaN               NaN          NaN                 NaN   \n",
            "12605                  NaN               NaN          NaN                 NaN   \n",
            "\n",
            "      Emission_year_2020.0 Emission_year_2021.0 Emission_year_2022.0  \\\n",
            "0                     True                False                False   \n",
            "1                     True                False                False   \n",
            "2                     True                False                False   \n",
            "3                     True                False                False   \n",
            "4                     True                False                False   \n",
            "...                    ...                  ...                  ...   \n",
            "12601                  NaN                  NaN                  NaN   \n",
            "12602                  NaN                  NaN                  NaN   \n",
            "12603                  NaN                  NaN                  NaN   \n",
            "12604                  NaN                  NaN                  NaN   \n",
            "12605                  NaN                  NaN                  NaN   \n",
            "\n",
            "      Emission_year_2023.0 Emission_year_2024.0 Emission_year_2025.0  \n",
            "0                    False                False                False  \n",
            "1                    False                False                False  \n",
            "2                    False                False                False  \n",
            "3                    False                False                False  \n",
            "4                    False                False                False  \n",
            "...                    ...                  ...                  ...  \n",
            "12601                  NaN                  NaN                  NaN  \n",
            "12602                  NaN                  NaN                  NaN  \n",
            "12603                  NaN                  NaN                  NaN  \n",
            "12604                  NaN                  NaN                  NaN  \n",
            "12605                  NaN                  NaN                  NaN  \n",
            "\n",
            "[12606 rows x 40 columns]\n",
            "Original df rows: 12606\n",
            "Merged df rows: 12606\n"
          ]
        }
      ],
      "source": [
        "# Columns to keep\n",
        "columns_to_keep = ['ISIN', 'Modified Duration', 'Kupon',\n",
        "                   'Emittent', 'Branche', 'Fälligkeit', 'Schuldnerkündigungsart',\n",
        "                   'Sonderkündigung', 'Nachrangig', 'Kleinste handelbare Einheit',\n",
        "                   'Spezialist', 'Handelsmodell', 'Emissionsdatum', 'Emissionsvolumen',\n",
        "                   'Umlaufendes Volumen', 'Emissionswährung', 'Depotwährung',\n",
        "                   'Notierungsaufnahme', 'Emission_year_2020.0', 'Emission_year_2021.0',\n",
        "                   'Emission_year_2022.0', 'Emission_year_2023.0', 'Emission_year_2024.0',\n",
        "                   'Emission_year_2025.0']\n",
        "\n",
        "df_universe_selected = df_universe[columns_to_keep]  # Select only the necessary columns\n",
        "\n",
        "# check ISINs\n",
        "print(df_universe[\"ISIN\"].value_counts())\n",
        "df_universe_selected = df_universe[columns_to_keep].drop_duplicates(subset=[\"ISIN\"])\n",
        "# Merge\n",
        "df_merged = df.merge(df_universe_selected, on=\"ISIN\", how=\"left\")\n",
        "df_merged.drop_duplicates(inplace=True)\n",
        "print(df_merged)\n",
        "\n",
        "print(f\"Original df rows: {df.shape[0]}\")\n",
        "print(f\"Merged df rows: {df_merged.shape[0]}\")"
      ]
    },
    {
      "cell_type": "markdown",
      "metadata": {
        "id": "8iuFX4m2IGDt"
      },
      "source": [
        "we calculate the YTM for rows that do not have an entry"
      ]
    },
    {
      "cell_type": "code",
      "execution_count": 15,
      "metadata": {
        "colab": {
          "base_uri": "https://localhost:8080/"
        },
        "id": "1d_lYEcmKujF",
        "outputId": "242a3c02-6337-452e-aee2-87eee16360af"
      },
      "outputs": [
        {
          "name": "stdout",
          "output_type": "stream",
          "text": [
            "0    29,09,2027\n",
            "1    29,09,2027\n",
            "2    29,09,2027\n",
            "3    29,09,2027\n",
            "4    29,09,2027\n",
            "Name: Fälligkeit, dtype: object\n",
            "0    2020-01-16\n",
            "1    2020-01-16\n",
            "2    2020-01-16\n",
            "3    2020-01-16\n",
            "4    2020-01-16\n",
            "Name: Emissionsdatum, dtype: object\n",
            "0    2025-01-02T08:40:00Z\n",
            "1    2025-01-02T10:53:00Z\n",
            "2    2025-01-02T13:47:00Z\n",
            "3    2025-01-03T08:40:00Z\n",
            "4    2025-01-03T11:30:00Z\n",
            "Name: DateTime, dtype: object\n"
          ]
        }
      ],
      "source": [
        "print(df_merged['Fälligkeit'].head())\n",
        "print(df_merged['Emissionsdatum'].head())\n",
        "print(df_merged['DateTime'].head())"
      ]
    },
    {
      "cell_type": "code",
      "execution_count": 16,
      "metadata": {
        "colab": {
          "base_uri": "https://localhost:8080/"
        },
        "id": "q_Az9mcaIJvz",
        "outputId": "f4f9661a-09f9-43f2-b257-39316732b34a"
      },
      "outputs": [
        {
          "name": "stdout",
          "output_type": "stream",
          "text": [
            "                   DateTime       Date  Last Price  days_to_maturity   YTM\n",
            "0      2025-01-02T08:40:00Z 2025-01-02       94.47            1000.0  2.46\n",
            "1      2025-01-02T10:53:00Z 2025-01-02       94.37            1000.0   2.5\n",
            "2      2025-01-02T13:47:00Z 2025-01-02       94.44            1000.0  2.47\n",
            "3      2025-01-03T08:40:00Z 2025-01-03       94.35             999.0  2.51\n",
            "4      2025-01-03T11:30:00Z 2025-01-03       94.24             999.0  2.55\n",
            "...                     ...        ...         ...               ...   ...\n",
            "12601  2025-01-31T08:15:00Z 2025-01-31       86.17               NaN   NaN\n",
            "12602  2025-01-31T10:00:00Z 2025-01-31       86.27               NaN   NaN\n",
            "12603  2025-01-31T14:00:00Z 2025-01-31       86.60               NaN   NaN\n",
            "12604  2025-01-31T15:00:00Z 2025-01-31       86.59               NaN   NaN\n",
            "12605  2025-01-31T16:00:00Z 2025-01-31       86.69               NaN   NaN\n",
            "\n",
            "[12606 rows x 5 columns]\n"
          ]
        }
      ],
      "source": [
        "# Ensure DateTime is parsed, remove timezone and normalize (set time to midnight)\n",
        "df_merged[\"Date\"] = pd.to_datetime(df_merged[\"DateTime\"]).dt.tz_convert(None).dt.normalize()\n",
        "\n",
        "# Convert 'Fälligkeit' to datetime using the format provided (tz-naive by default)\n",
        "df_merged['fälligkeit_datum'] = pd.to_datetime(df_merged['Fälligkeit'], format='%d,%m,%Y')\n",
        "\n",
        "# Convert 'Emissionsdatum' to datetime (if needed later)\n",
        "df_merged['emission_datum'] = pd.to_datetime(df_merged['Emissionsdatum'], format='%Y-%m-%d')\n",
        "\n",
        "# Calculate the exact number of days until maturity\n",
        "df_merged['days_to_maturity'] = (df_merged['fälligkeit_datum'] - df_merged[\"Date\"]).dt.days\n",
        "\n",
        "# Face Value assumption (usually 100)\n",
        "F = 100\n",
        "\n",
        "# Calculate YTM using the exact days to maturity (converted to years)\n",
        "def calculate_ytm(row):\n",
        "    if row[\"YTM\"] == \"-\":\n",
        "        P = row[\"Last Price\"]\n",
        "        C = row[\"Coupon\"]  # Annual coupon payment (assumed to be in percent of F)\n",
        "        T_years = row[\"days_to_maturity\"] / 365.0  # convert days to years\n",
        "        if T_years <= 0:\n",
        "            return None  # handle bonds that have matured or if there's an error\n",
        "        # YTM approximation formula: (Coupon + (Face Value - Price)/T) / ((Face Value + Price)/2)\n",
        "        ytm = (C + (F - P) / T_years) / ((F + P) / 2) * 100  # multiplied by 100 to get percentage\n",
        "        return round(ytm, 4)\n",
        "    return row[\"YTM\"]\n",
        "\n",
        "df_merged[\"YTM\"] = df_merged.apply(calculate_ytm, axis=1)\n",
        "\n",
        "# Display the relevant columns for verification\n",
        "print(df_merged[[\"DateTime\", \"Date\", \"Last Price\", \"days_to_maturity\", \"YTM\"]])"
      ]
    },
    {
      "cell_type": "code",
      "execution_count": 23,
      "metadata": {
        "id": "gFFWsLKc2AWi"
      },
      "outputs": [],
      "source": [
        "# removing rows if column \"days_to_maturity\" is empty\n",
        "df_merged = df_merged.dropna(subset=['days_to_maturity']).reset_index(drop=True)\n",
        "df_merged.to_csv('df_final_7.csv', index=False)"
      ]
    }
  ],
  "metadata": {
    "colab": {
      "authorship_tag": "ABX9TyP4ear8VPCrbWxK4oKEthR+",
      "include_colab_link": true,
      "provenance": []
    },
    "kernelspec": {
      "display_name": "Python 3",
      "name": "python3"
    },
    "language_info": {
      "name": "python"
    }
  },
  "nbformat": 4,
  "nbformat_minor": 0
}
