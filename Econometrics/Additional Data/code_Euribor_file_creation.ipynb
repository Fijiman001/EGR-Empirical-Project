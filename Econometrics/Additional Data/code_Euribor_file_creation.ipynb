{
 "cells": [
  {
   "cell_type": "markdown",
   "metadata": {},
   "source": [
    "# 1 \n",
    "Loading the Data"
   ]
  },
  {
   "cell_type": "code",
   "execution_count": 23,
   "metadata": {},
   "outputs": [
    {
     "name": "stdout",
     "output_type": "stream",
     "text": [
      "             0                 1\n",
      "0         Date  Euribor 3 months\n",
      "1   21/03/2025             2.386\n",
      "2   20/03/2025             2.387\n",
      "3   19/03/2025             2.411\n",
      "4   18/03/2025             2.426\n",
      "..         ...               ...\n",
      "61  27/12/2024             2.683\n",
      "62  26/12/2024               NaN\n",
      "63  25/12/2024               NaN\n",
      "64  24/12/2024               NaN\n",
      "65  23/12/2024             2.731\n",
      "\n",
      "[66 rows x 2 columns]\n"
     ]
    }
   ],
   "source": [
    "import pandas as pd\n",
    "\n",
    "df_raw = pd.read_csv(\"raw_euribor_3month_data.csv\", header=None)\n",
    "print(df_raw)"
   ]
  },
  {
   "cell_type": "markdown",
   "metadata": {},
   "source": [
    "# 2 \n",
    "We interpolate between missing values - I was not able to get data for all dates"
   ]
  },
  {
   "cell_type": "code",
   "execution_count": 24,
   "metadata": {},
   "outputs": [
    {
     "name": "stdout",
     "output_type": "stream",
     "text": [
      "            Euribor_3m\n",
      "Date                  \n",
      "2024-12-23    2.731000\n",
      "2024-12-24    2.719000\n",
      "2024-12-25    2.707000\n",
      "2024-12-26    2.695000\n",
      "2024-12-27    2.683000\n",
      "2024-12-30    2.706250\n",
      "2024-12-31    2.714000\n",
      "2025-01-01    2.719667\n",
      "2025-01-02    2.725333\n",
      "2025-01-03    2.731000\n",
      "2025-01-06    2.839000\n",
      "2025-01-07    2.875000\n",
      "2025-01-08    2.832000\n",
      "2025-01-09    2.789000\n",
      "2025-01-10    2.788000\n",
      "2025-01-13    2.785000\n",
      "2025-01-14    2.766500\n",
      "2025-01-15    2.748000\n",
      "2025-01-16    2.726000\n",
      "2025-01-17    2.704000\n",
      "\n",
      "Number of missing values after interpolation:\n",
      "0\n"
     ]
    },
    {
     "name": "stderr",
     "output_type": "stream",
     "text": [
      "C:\\Users\\Alex\\AppData\\Local\\Temp\\ipykernel_19204\\1270932479.py:8: UserWarning: Could not infer format, so each element will be parsed individually, falling back to `dateutil`. To ensure parsing is consistent and as-expected, please specify a format.\n",
      "  df_raw[\"Date\"] = pd.to_datetime(df_raw[\"Date\"], dayfirst=True, errors=\"coerce\")\n"
     ]
    }
   ],
   "source": [
    "import pandas as pd\n",
    "\n",
    "# 1) Rename the columns for clarity\n",
    "df_raw.columns = [\"Date\", \"Euribor_3m\"]\n",
    "\n",
    "# 2) Parse the 'Date' column as datetime. \n",
    "#    If your dates are in day/month/year format, set dayfirst=True.\n",
    "df_raw[\"Date\"] = pd.to_datetime(df_raw[\"Date\"], dayfirst=True, errors=\"coerce\")\n",
    "\n",
    "# 3) Convert the Euribor values to numeric (floats), coercing non-numeric to NaN\n",
    "df_raw[\"Euribor_3m\"] = pd.to_numeric(df_raw[\"Euribor_3m\"], errors=\"coerce\")\n",
    "\n",
    "# 4) Drop any rows where 'Date' could not be parsed\n",
    "df_raw.dropna(subset=[\"Date\"], inplace=True)\n",
    "\n",
    "# 5) Set 'Date' as the index and sort by it, so time-based interpolation can work\n",
    "df_raw.set_index(\"Date\", inplace=True)\n",
    "df_raw.sort_index(inplace=True)\n",
    "\n",
    "# 6) Interpolate missing values in 'Euribor_3m' based on time\n",
    "#    This will fill NaN by looking at neighboring valid dates.\n",
    "df_raw[\"Euribor_3m\"] = df_raw[\"Euribor_3m\"].interpolate(method=\"time\")\n",
    "\n",
    "# 7) (Optional) Check the result\n",
    "print(df_raw.head(20))\n",
    "print(\"\\nNumber of missing values after interpolation:\")\n",
    "print(df_raw[\"Euribor_3m\"].isna().sum())"
   ]
  },
  {
   "cell_type": "code",
   "execution_count": 25,
   "metadata": {},
   "outputs": [],
   "source": [
    "df_raw.to_csv(\"cleaned_euribor_3month_data.csv\")"
   ]
  }
 ],
 "metadata": {
  "kernelspec": {
   "display_name": "Python 3",
   "language": "python",
   "name": "python3"
  },
  "language_info": {
   "codemirror_mode": {
    "name": "ipython",
    "version": 3
   },
   "file_extension": ".py",
   "mimetype": "text/x-python",
   "name": "python",
   "nbconvert_exporter": "python",
   "pygments_lexer": "ipython3",
   "version": "3.12.6"
  }
 },
 "nbformat": 4,
 "nbformat_minor": 2
}
