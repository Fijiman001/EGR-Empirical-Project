{
  "nbformat": 4,
  "nbformat_minor": 0,
  "metadata": {
    "colab": {
      "provenance": [],
      "collapsed_sections": [
        "xTxrybxaPJTS",
        "EfwEr4aaJHmz"
      ],
      "authorship_tag": "ABX9TyPzI6Qaj+hPFGLcht4fEYR0",
      "include_colab_link": true
    },
    "kernelspec": {
      "name": "python3",
      "display_name": "Python 3"
    },
    "language_info": {
      "name": "python"
    }
  },
  "cells": [
    {
      "cell_type": "markdown",
      "metadata": {
        "id": "view-in-github",
        "colab_type": "text"
      },
      "source": [
        "<a href=\"https://colab.research.google.com/github/Fijiman001/EGR-Empirical-Project/blob/main/Econometrics/df_final_and_test_regression.ipynb\" target=\"_parent\"><img src=\"https://colab.research.google.com/assets/colab-badge.svg\" alt=\"Open In Colab\"/></a>"
      ]
    },
    {
      "cell_type": "markdown",
      "source": [
        "# Creating Final df"
      ],
      "metadata": {
        "id": "xTxrybxaPJTS"
      }
    },
    {
      "cell_type": "code",
      "execution_count": null,
      "metadata": {
        "colab": {
          "base_uri": "https://localhost:8080/"
        },
        "id": "mhFcExUwzfJb",
        "outputId": "ec0feca7-6fa6-41ec-f46f-3831415c2885"
      },
      "outputs": [
        {
          "output_type": "stream",
          "name": "stdout",
          "text": [
            "                        Name Clean_Company_Maturity     WKN  \\\n",
            "0       E.ON SE 0,375% 20/27    e on se 0 375 20 27  A254QR   \n",
            "1       E.ON SE 0,375% 20/27    e on se 0 375 20 27  A254QR   \n",
            "2       E.ON SE 0,375% 20/27    e on se 0 375 20 27  A254QR   \n",
            "3       E.ON SE 0,375% 20/27    e on se 0 375 20 27  A254QR   \n",
            "4       E.ON SE 0,375% 20/27    e on se 0 375 20 27  A254QR   \n",
            "...                      ...                    ...     ...   \n",
            "12622  Talanx AG 1,75% 21/42   talanx ag 1 75 21 42  TLX310   \n",
            "12623  Talanx AG 1,75% 21/42   talanx ag 1 75 21 42  TLX310   \n",
            "12624  Talanx AG 1,75% 21/42   talanx ag 1 75 21 42  TLX310   \n",
            "12625  Talanx AG 1,75% 21/42   talanx ag 1 75 21 42  TLX310   \n",
            "12626  Talanx AG 1,75% 21/42   talanx ag 1 75 21 42  TLX310   \n",
            "\n",
            "                                                     URL          ISIN  \\\n",
            "0      https://www.boerse-frankfurt.de/anleihe/xs2103...  xs2103014291   \n",
            "1      https://www.boerse-frankfurt.de/anleihe/xs2103...  xs2103014291   \n",
            "2      https://www.boerse-frankfurt.de/anleihe/xs2103...  xs2103014291   \n",
            "3      https://www.boerse-frankfurt.de/anleihe/xs2103...  xs2103014291   \n",
            "4      https://www.boerse-frankfurt.de/anleihe/xs2103...  xs2103014291   \n",
            "...                                                  ...           ...   \n",
            "12622  https://www.boerse-frankfurt.de/anleihe/xs2411...  xs2411241693   \n",
            "12623  https://www.boerse-frankfurt.de/anleihe/xs2411...  xs2411241693   \n",
            "12624  https://www.boerse-frankfurt.de/anleihe/xs2411...  xs2411241693   \n",
            "12625  https://www.boerse-frankfurt.de/anleihe/xs2411...  xs2411241693   \n",
            "12626  https://www.boerse-frankfurt.de/anleihe/xs2411...  xs2411241693   \n",
            "\n",
            "         Company Kupon_Maturity  Coupon  Maturity_Start  Maturity_End  \\\n",
            "0        e on se    0 375 20 27   0.375              20            27   \n",
            "1        e on se    0 375 20 27   0.375              20            27   \n",
            "2        e on se    0 375 20 27   0.375              20            27   \n",
            "3        e on se    0 375 20 27   0.375              20            27   \n",
            "4        e on se    0 375 20 27   0.375              20            27   \n",
            "...          ...            ...     ...             ...           ...   \n",
            "12622  talanx ag     1 75 21 42   1.750              21            42   \n",
            "12623  talanx ag     1 75 21 42   1.750              21            42   \n",
            "12624  talanx ag     1 75 21 42   1.750              21            42   \n",
            "12625  talanx ag     1 75 21 42   1.750              21            42   \n",
            "12626  talanx ag     1 75 21 42   1.750              21            42   \n",
            "\n",
            "       is_green  Last Price              DateTime  Volume in Euro  +/- %  \\\n",
            "0             1       94.47  2025-01-02T08:40:00Z             0.0   0,19   \n",
            "1             1       94.37  2025-01-02T10:53:00Z             0.0   0,08   \n",
            "2             1       94.44  2025-01-02T13:47:00Z             0.0   0,16   \n",
            "3             1       94.35  2025-01-03T08:40:00Z             0.0   0,00   \n",
            "4             1       94.24  2025-01-03T11:30:00Z             0.0  -0,11   \n",
            "...         ...         ...                   ...             ...    ...   \n",
            "12622         1       86.17  2025-01-31T08:15:00Z             0.0  -0,07   \n",
            "12623         1       86.27  2025-01-31T10:00:00Z             0.0   0,05   \n",
            "12624         1       86.60  2025-01-31T14:00:00Z             0.0   0,43   \n",
            "12625         1       86.59  2025-01-31T15:00:00Z             0.0   0,42   \n",
            "12626         1       86.69  2025-01-31T16:00:00Z             0.0   0,53   \n",
            "\n",
            "      Currency YTM  \n",
            "0         Euro   -  \n",
            "1         Euro   -  \n",
            "2         Euro   -  \n",
            "3         Euro   -  \n",
            "4         Euro   -  \n",
            "...        ...  ..  \n",
            "12622     Euro   -  \n",
            "12623     Euro   -  \n",
            "12624     Euro   -  \n",
            "12625     Euro   -  \n",
            "12626     Euro   -  \n",
            "\n",
            "[12627 rows x 17 columns]\n"
          ]
        }
      ],
      "source": [
        "import pandas as pd\n",
        "\n",
        "df = pd.read_csv('merging_done_6.csv')\n",
        "df.drop(columns=['Company + Kupon and Maturity'], inplace=True)\n",
        "print(df)"
      ]
    },
    {
      "cell_type": "markdown",
      "source": [
        "We do some last data cleaning, removing rows with bad data and rows were prices seem wrong, e.g. last price = 1000"
      ],
      "metadata": {
        "id": "a9kpyzC_HltX"
      }
    },
    {
      "cell_type": "code",
      "source": [
        "max_last_price = df['Last Price'].max()\n",
        "max_last_price_row = df[df['Last Price'] == max_last_price]\n",
        "print(max_last_price_row.count())\n",
        "df.drop(df[df['Last Price'] == max_last_price].index, inplace=True)"
      ],
      "metadata": {
        "colab": {
          "base_uri": "https://localhost:8080/"
        },
        "id": "rxUCCGq901s4",
        "outputId": "96f67aa0-48d1-4f87-9002-310007417aaa"
      },
      "execution_count": null,
      "outputs": [
        {
          "output_type": "stream",
          "name": "stdout",
          "text": [
            "Name                      21\n",
            "Clean_Company_Maturity    21\n",
            "WKN                       21\n",
            "URL                       21\n",
            "ISIN                      21\n",
            "Company                   21\n",
            "Kupon_Maturity            21\n",
            "Coupon                    21\n",
            "Maturity_Start            21\n",
            "Maturity_End              21\n",
            "is_green                  21\n",
            "Last Price                21\n",
            "DateTime                  21\n",
            "Volume in Euro            21\n",
            "+/- %                     21\n",
            "Currency                  21\n",
            "YTM                       21\n",
            "dtype: int64\n"
          ]
        }
      ]
    },
    {
      "cell_type": "markdown",
      "source": [
        "we also interestingly have a good mix of currencies"
      ],
      "metadata": {
        "id": "18FowxuiH7hg"
      }
    },
    {
      "cell_type": "code",
      "source": [
        "df['Currency'].unique()"
      ],
      "metadata": {
        "colab": {
          "base_uri": "https://localhost:8080/"
        },
        "id": "Q_HV0tRy0-Sn",
        "outputId": "942d44e0-1519-40a6-80d3-ede8ca3d5440"
      },
      "execution_count": null,
      "outputs": [
        {
          "output_type": "execute_result",
          "data": {
            "text/plain": [
              "array(['Euro', 'US-Dollar', 'Canadische Dollar', 'Real (Brasilien)',\n",
              "       'Zloty (Polen)', 'Kolumbianische Pesos', 'Britische Pfund',\n",
              "       'Neuseeland-Dollar', 'Norwegische Kronen', 'Ungarische Forint',\n",
              "       'Südafrikanische Rand', 'Australische Dollar', 'Türkische Lira'],\n",
              "      dtype=object)"
            ]
          },
          "metadata": {},
          "execution_count": 3
        }
      ]
    },
    {
      "cell_type": "markdown",
      "source": [
        "# Last merge with additional static data for exact maturity date"
      ],
      "metadata": {
        "id": "EfwEr4aaJHmz"
      }
    },
    {
      "cell_type": "code",
      "source": [
        "df_universe = pd.read_csv('bond_universe_cleaned_1.csv')\n",
        "print(df_universe.columns)\n",
        "print(df_universe)"
      ],
      "metadata": {
        "colab": {
          "base_uri": "https://localhost:8080/"
        },
        "id": "UIXcATWOJMbM",
        "outputId": "0a4e236d-241c-418e-ea10-bc3c9c3e2997"
      },
      "execution_count": null,
      "outputs": [
        {
          "output_type": "stream",
          "name": "stdout",
          "text": [
            "Index(['URL', 'ISIN', 'Company', 'Kupon_Maturity', 'Coupon', 'Maturity_Start',\n",
            "       'Maturity_End', 'is_green', 'Letzter Preis', 'Veränderung zum Vortag',\n",
            "       'Letzter Handel', 'Geld', 'Brief', 'Modified Duration', 'Kupon',\n",
            "       'Emittent', 'Branche', 'Fälligkeit', 'Schuldnerkündigungsart',\n",
            "       'Sonderkündigung', 'Nachrangig', 'Kleinste handelbare Einheit',\n",
            "       'Spezialist', 'Handelsmodell', 'Emissionsdatum', 'Emissionsvolumen',\n",
            "       'Umlaufendes Volumen', 'Emissionswährung', 'Depotwährung',\n",
            "       'Notierungsaufnahme', 'Emission_year_2020.0', 'Emission_year_2021.0',\n",
            "       'Emission_year_2022.0', 'Emission_year_2023.0', 'Emission_year_2024.0',\n",
            "       'Emission_year_2025.0'],\n",
            "      dtype='object')\n",
            "                                                    URL          ISIN  \\\n",
            "0     https://www.boerse-frankfurt.de/anleihe/xs2694...  xs2694874533   \n",
            "1     https://www.boerse-frankfurt.de/anleihe/xs2482...  xs2482887879   \n",
            "2     https://www.boerse-frankfurt.de/anleihe/xs2482...  xs2482887879   \n",
            "3     https://www.boerse-frankfurt.de/anleihe/de000a...  de000a3lh6t7   \n",
            "4     https://www.boerse-frankfurt.de/anleihe/de000a...  de000a3lh6t7   \n",
            "...                                                 ...           ...   \n",
            "4068  https://www.boerse-frankfurt.de/anleihe/xs2264...  xs2264087110   \n",
            "4069  https://www.boerse-frankfurt.de/anleihe/xs2293...  xs2293889759   \n",
            "4070  https://www.boerse-frankfurt.de/anleihe/xs2714...  xs2714338592   \n",
            "4071  https://www.boerse-frankfurt.de/anleihe/de000d...  de000dj9akf4   \n",
            "4072  https://www.boerse-frankfurt.de/anleihe/usn307...  usn30706vf42   \n",
            "\n",
            "                                                Company Kupon_Maturity  \\\n",
            "0                               volkswagen-leasing-gmbh     4-75-23-31   \n",
            "1                                                rwe-ag     2-75-22-30   \n",
            "2                                                rwe-ag     2-75-22-30   \n",
            "3               mercedes-benz-international-finance-b-v      3-5-23-26   \n",
            "4               mercedes-benz-international-finance-b-v      3-5-23-26   \n",
            "...                                                 ...            ...   \n",
            "4068                         cooeperatieve-rabobank-u-a     0-01-20-40   \n",
            "4069                         international-finance-corp     6-25-21-28   \n",
            "4070                                     stora-enso-oyj        5-23-28   \n",
            "4071  dz-bank-ag-deutsche-zentral-genossenschaftsban...     3-01-24-39   \n",
            "4072                     enel-finance-international-n-v    2-875-21-41   \n",
            "\n",
            "      Coupon  Maturity_Start  Maturity_End  is_green Letzter Preis  \\\n",
            "0      4.750              23            31         1        106,88   \n",
            "1      2.750              22            30         1         99,19   \n",
            "2      2.750              22            30         1         99,19   \n",
            "3      3.500              23            26         1        101,46   \n",
            "4      3.500              23            26         1        101,46   \n",
            "...      ...             ...           ...       ...           ...   \n",
            "4068   0.010              20            40         0         60,66   \n",
            "4069   6.250              21            28         0         82,36   \n",
            "4070   5.000              23            28         0        105,08   \n",
            "4071   3.010              24            39         0         97,36   \n",
            "4072   2.875              21            41         0         18,87   \n",
            "\n",
            "     Veränderung zum Vortag  ...  Umlaufendes Volumen Emissionswährung  \\\n",
            "0                     1,08%  ...         7.000000e+08              EUR   \n",
            "1                    -0,09%  ...         1.000000e+09              EUR   \n",
            "2                    -0,09%  ...         1.000000e+09              EUR   \n",
            "3                     0,03%  ...         1.000000e+09              EUR   \n",
            "4                     0,03%  ...         1.000000e+09              EUR   \n",
            "...                     ...  ...                  ...              ...   \n",
            "4068                 -0,56%  ...         1.200000e+09              EUR   \n",
            "4069                  0,15%  ...         1.500000e+08              BRL   \n",
            "4070                 -0,04%  ...         2.250000e+09              SEK   \n",
            "4071                  0,15%  ...         1.000000e+07              EUR   \n",
            "4072                  0,00%  ...         7.500000e+08              USD   \n",
            "\n",
            "      Depotwährung Notierungsaufnahme Emission_year_2020.0  \\\n",
            "0              EUR         20,09,2023                False   \n",
            "1              EUR         20,05,2022                False   \n",
            "2              EUR         20,05,2022                False   \n",
            "3              EUR         24,05,2023                False   \n",
            "4              EUR         24,05,2023                False   \n",
            "...            ...                ...                  ...   \n",
            "4068           EUR         23,11,2020                 True   \n",
            "4069           BRL         08,01,2024                False   \n",
            "4070           SEK         07,11,2023                False   \n",
            "4071           EUR         03,05,2024                False   \n",
            "4072           USD         12,07,2021                False   \n",
            "\n",
            "     Emission_year_2021.0 Emission_year_2022.0 Emission_year_2023.0  \\\n",
            "0                   False                False                 True   \n",
            "1                   False                 True                False   \n",
            "2                   False                 True                False   \n",
            "3                   False                False                 True   \n",
            "4                   False                False                 True   \n",
            "...                   ...                  ...                  ...   \n",
            "4068                False                False                False   \n",
            "4069                 True                False                False   \n",
            "4070                False                False                 True   \n",
            "4071                False                False                False   \n",
            "4072                 True                False                False   \n",
            "\n",
            "     Emission_year_2024.0 Emission_year_2025.0  \n",
            "0                   False                False  \n",
            "1                   False                False  \n",
            "2                   False                False  \n",
            "3                   False                False  \n",
            "4                   False                False  \n",
            "...                   ...                  ...  \n",
            "4068                False                False  \n",
            "4069                False                False  \n",
            "4070                False                False  \n",
            "4071                 True                False  \n",
            "4072                False                False  \n",
            "\n",
            "[4073 rows x 36 columns]\n"
          ]
        }
      ]
    },
    {
      "cell_type": "code",
      "source": [
        "# Columns to keep\n",
        "columns_to_keep = ['ISIN', 'Modified Duration', 'Kupon',\n",
        "                   'Emittent', 'Branche', 'Fälligkeit', 'Schuldnerkündigungsart',\n",
        "                   'Sonderkündigung', 'Nachrangig', 'Kleinste handelbare Einheit',\n",
        "                   'Spezialist', 'Handelsmodell', 'Emissionsdatum', 'Emissionsvolumen',\n",
        "                   'Umlaufendes Volumen', 'Emissionswährung', 'Depotwährung',\n",
        "                   'Notierungsaufnahme', 'Emission_year_2020.0', 'Emission_year_2021.0',\n",
        "                   'Emission_year_2022.0', 'Emission_year_2023.0', 'Emission_year_2024.0',\n",
        "                   'Emission_year_2025.0']\n",
        "\n",
        "df_universe_selected = df_universe[columns_to_keep]  # Select only the necessary columns\n",
        "\n",
        "# Merge\n",
        "df_merged = df.merge(df_universe_selected, on=\"ISIN\", how=\"left\")\n",
        "df_merged.drop_duplicates(inplace=True)\n",
        "print(df_merged)"
      ],
      "metadata": {
        "colab": {
          "base_uri": "https://localhost:8080/"
        },
        "id": "rMfvXUOdKN9s",
        "outputId": "1cf412a9-0442-49d0-fc1e-cb34e21d11cc"
      },
      "execution_count": null,
      "outputs": [
        {
          "output_type": "stream",
          "name": "stdout",
          "text": [
            "                        Name Clean_Company_Maturity     WKN  \\\n",
            "0       E.ON SE 0,375% 20/27    e on se 0 375 20 27  A254QR   \n",
            "1       E.ON SE 0,375% 20/27    e on se 0 375 20 27  A254QR   \n",
            "4       E.ON SE 0,375% 20/27    e on se 0 375 20 27  A254QR   \n",
            "5       E.ON SE 0,375% 20/27    e on se 0 375 20 27  A254QR   \n",
            "8       E.ON SE 0,375% 20/27    e on se 0 375 20 27  A254QR   \n",
            "...                      ...                    ...     ...   \n",
            "31856  Talanx AG 1,75% 21/42   talanx ag 1 75 21 42  TLX310   \n",
            "31857  Talanx AG 1,75% 21/42   talanx ag 1 75 21 42  TLX310   \n",
            "31858  Talanx AG 1,75% 21/42   talanx ag 1 75 21 42  TLX310   \n",
            "31859  Talanx AG 1,75% 21/42   talanx ag 1 75 21 42  TLX310   \n",
            "31860  Talanx AG 1,75% 21/42   talanx ag 1 75 21 42  TLX310   \n",
            "\n",
            "                                                     URL          ISIN  \\\n",
            "0      https://www.boerse-frankfurt.de/anleihe/xs2103...  xs2103014291   \n",
            "1      https://www.boerse-frankfurt.de/anleihe/xs2103...  xs2103014291   \n",
            "4      https://www.boerse-frankfurt.de/anleihe/xs2103...  xs2103014291   \n",
            "5      https://www.boerse-frankfurt.de/anleihe/xs2103...  xs2103014291   \n",
            "8      https://www.boerse-frankfurt.de/anleihe/xs2103...  xs2103014291   \n",
            "...                                                  ...           ...   \n",
            "31856  https://www.boerse-frankfurt.de/anleihe/xs2411...  xs2411241693   \n",
            "31857  https://www.boerse-frankfurt.de/anleihe/xs2411...  xs2411241693   \n",
            "31858  https://www.boerse-frankfurt.de/anleihe/xs2411...  xs2411241693   \n",
            "31859  https://www.boerse-frankfurt.de/anleihe/xs2411...  xs2411241693   \n",
            "31860  https://www.boerse-frankfurt.de/anleihe/xs2411...  xs2411241693   \n",
            "\n",
            "         Company Kupon_Maturity  Coupon  Maturity_Start  Maturity_End  ...  \\\n",
            "0        e on se    0 375 20 27   0.375              20            27  ...   \n",
            "1        e on se    0 375 20 27   0.375              20            27  ...   \n",
            "4        e on se    0 375 20 27   0.375              20            27  ...   \n",
            "5        e on se    0 375 20 27   0.375              20            27  ...   \n",
            "8        e on se    0 375 20 27   0.375              20            27  ...   \n",
            "...          ...            ...     ...             ...           ...  ...   \n",
            "31856  talanx ag     1 75 21 42   1.750              21            42  ...   \n",
            "31857  talanx ag     1 75 21 42   1.750              21            42  ...   \n",
            "31858  talanx ag     1 75 21 42   1.750              21            42  ...   \n",
            "31859  talanx ag     1 75 21 42   1.750              21            42  ...   \n",
            "31860  talanx ag     1 75 21 42   1.750              21            42  ...   \n",
            "\n",
            "       Umlaufendes Volumen  Emissionswährung Depotwährung  Notierungsaufnahme  \\\n",
            "0             1.000000e+09               EUR          EUR          14,01,2020   \n",
            "1             1.000000e+09               EUR          EUR          14,01,2020   \n",
            "4             1.000000e+09               EUR          EUR          14,01,2020   \n",
            "5             1.000000e+09               EUR          EUR          14,01,2020   \n",
            "8             1.000000e+09               EUR          EUR          14,01,2020   \n",
            "...                    ...               ...          ...                 ...   \n",
            "31856                  NaN               NaN          NaN                 NaN   \n",
            "31857                  NaN               NaN          NaN                 NaN   \n",
            "31858                  NaN               NaN          NaN                 NaN   \n",
            "31859                  NaN               NaN          NaN                 NaN   \n",
            "31860                  NaN               NaN          NaN                 NaN   \n",
            "\n",
            "      Emission_year_2020.0 Emission_year_2021.0 Emission_year_2022.0  \\\n",
            "0                     True                False                False   \n",
            "1                     True                False                False   \n",
            "4                     True                False                False   \n",
            "5                     True                False                False   \n",
            "8                     True                False                False   \n",
            "...                    ...                  ...                  ...   \n",
            "31856                  NaN                  NaN                  NaN   \n",
            "31857                  NaN                  NaN                  NaN   \n",
            "31858                  NaN                  NaN                  NaN   \n",
            "31859                  NaN                  NaN                  NaN   \n",
            "31860                  NaN                  NaN                  NaN   \n",
            "\n",
            "      Emission_year_2023.0 Emission_year_2024.0 Emission_year_2025.0  \n",
            "0                    False                False                False  \n",
            "1                    False                False                False  \n",
            "4                    False                False                False  \n",
            "5                    False                False                False  \n",
            "8                    False                False                False  \n",
            "...                    ...                  ...                  ...  \n",
            "31856                  NaN                  NaN                  NaN  \n",
            "31857                  NaN                  NaN                  NaN  \n",
            "31858                  NaN                  NaN                  NaN  \n",
            "31859                  NaN                  NaN                  NaN  \n",
            "31860                  NaN                  NaN                  NaN  \n",
            "\n",
            "[17595 rows x 40 columns]\n"
          ]
        }
      ]
    },
    {
      "cell_type": "markdown",
      "source": [
        "we calculate the YTM for rows that do not have an entry"
      ],
      "metadata": {
        "id": "8iuFX4m2IGDt"
      }
    },
    {
      "cell_type": "code",
      "source": [
        "print(df_merged['Fälligkeit'].head())\n",
        "print(df_merged['Emissionsdatum'].head())\n",
        "print(df_merged['DateTime'].head())"
      ],
      "metadata": {
        "colab": {
          "base_uri": "https://localhost:8080/"
        },
        "id": "1d_lYEcmKujF",
        "outputId": "8d8fd381-007e-480a-d1d0-09194cb4b566"
      },
      "execution_count": null,
      "outputs": [
        {
          "output_type": "stream",
          "name": "stdout",
          "text": [
            "0    29,09,2027\n",
            "1    29,09,2027\n",
            "4    29,09,2027\n",
            "5    29,09,2027\n",
            "8    29,09,2027\n",
            "Name: Fälligkeit, dtype: object\n",
            "0    2020-01-16\n",
            "1    2020-01-16\n",
            "4    2020-01-16\n",
            "5    2020-01-16\n",
            "8    2020-01-16\n",
            "Name: Emissionsdatum, dtype: object\n",
            "0    2025-01-02T08:40:00Z\n",
            "1    2025-01-02T08:40:00Z\n",
            "4    2025-01-02T10:53:00Z\n",
            "5    2025-01-02T10:53:00Z\n",
            "8    2025-01-02T13:47:00Z\n",
            "Name: DateTime, dtype: object\n"
          ]
        }
      ]
    },
    {
      "cell_type": "code",
      "source": [
        "# Ensure DateTime is parsed, remove timezone and normalize (set time to midnight)\n",
        "df_merged[\"Date\"] = pd.to_datetime(df_merged[\"DateTime\"]).dt.tz_convert(None).dt.normalize()\n",
        "\n",
        "# Convert 'Fälligkeit' to datetime using the format provided (tz-naive by default)\n",
        "df_merged['fälligkeit_datum'] = pd.to_datetime(df_merged['Fälligkeit'], format='%d,%m,%Y')\n",
        "\n",
        "# Convert 'Emissionsdatum' to datetime (if needed later)\n",
        "df_merged['emission_datum'] = pd.to_datetime(df_merged['Emissionsdatum'], format='%Y-%m-%d')\n",
        "\n",
        "# Calculate the exact number of days until maturity\n",
        "df_merged['days_to_maturity'] = (df_merged['fälligkeit_datum'] - df_merged[\"Date\"]).dt.days\n",
        "\n",
        "# Face Value assumption (usually 100)\n",
        "F = 100\n",
        "\n",
        "# Calculate YTM using the exact days to maturity (converted to years)\n",
        "def calculate_ytm(row):\n",
        "    if row[\"YTM\"] == \"-\":\n",
        "        P = row[\"Last Price\"]\n",
        "        C = row[\"Coupon\"]  # Annual coupon payment (assumed to be in percent of F)\n",
        "        T_years = row[\"days_to_maturity\"] / 365.0  # convert days to years\n",
        "        if T_years <= 0:\n",
        "            return None  # handle bonds that have matured or if there's an error\n",
        "        # YTM approximation formula: (Coupon + (Face Value - Price)/T) / ((Face Value + Price)/2)\n",
        "        ytm = (C + (F - P) / T_years) / ((F + P) / 2) * 100  # multiplied by 100 to get percentage\n",
        "        return round(ytm, 2)\n",
        "    return row[\"YTM\"]\n",
        "\n",
        "df_merged[\"YTM\"] = df_merged.apply(calculate_ytm, axis=1)\n",
        "\n",
        "# Display the relevant columns for verification\n",
        "print(df_merged[[\"DateTime\", \"Date\", \"Last Price\", \"days_to_maturity\", \"YTM\"]])"
      ],
      "metadata": {
        "colab": {
          "base_uri": "https://localhost:8080/"
        },
        "id": "q_Az9mcaIJvz",
        "outputId": "1210e66a-795f-4886-8bf8-7615d96070e0"
      },
      "execution_count": null,
      "outputs": [
        {
          "output_type": "stream",
          "name": "stdout",
          "text": [
            "                   DateTime       Date  Last Price  days_to_maturity   YTM\n",
            "0      2025-01-02T08:40:00Z 2025-01-02       94.47            1000.0  2.46\n",
            "1      2025-01-02T08:40:00Z 2025-01-02       94.47            1000.0  2.46\n",
            "4      2025-01-02T10:53:00Z 2025-01-02       94.37            1000.0   2.5\n",
            "5      2025-01-02T10:53:00Z 2025-01-02       94.37            1000.0   2.5\n",
            "8      2025-01-02T13:47:00Z 2025-01-02       94.44            1000.0  2.47\n",
            "...                     ...        ...         ...               ...   ...\n",
            "31856  2025-01-31T08:15:00Z 2025-01-31       86.17               NaN   NaN\n",
            "31857  2025-01-31T10:00:00Z 2025-01-31       86.27               NaN   NaN\n",
            "31858  2025-01-31T14:00:00Z 2025-01-31       86.60               NaN   NaN\n",
            "31859  2025-01-31T15:00:00Z 2025-01-31       86.59               NaN   NaN\n",
            "31860  2025-01-31T16:00:00Z 2025-01-31       86.69               NaN   NaN\n",
            "\n",
            "[17595 rows x 5 columns]\n"
          ]
        }
      ]
    },
    {
      "cell_type": "code",
      "source": [
        "df.to_csv('df_final_7.csv', index=False)"
      ],
      "metadata": {
        "id": "gFFWsLKc2AWi"
      },
      "execution_count": null,
      "outputs": []
    },
    {
      "cell_type": "markdown",
      "source": [
        "# Matching"
      ],
      "metadata": {
        "id": "oLVdy0FNH_Wm"
      }
    },
    {
      "cell_type": "code",
      "source": [
        "import pandas as pd\n",
        "\n",
        "url = \"https://raw.githubusercontent.com/Fijiman001/EGR-Empirical-Project/refs/heads/main/data/Final%20data%20for%20the%20study/df_final_7.csv\"\n",
        "df = pd.read_csv(url)\n",
        "print(df.columns)\n",
        "print(df.head())"
      ],
      "metadata": {
        "colab": {
          "base_uri": "https://localhost:8080/"
        },
        "id": "EF8i2s8YOrQG",
        "outputId": "dc24cb83-268d-4dec-c516-f2702e5ddf0c"
      },
      "execution_count": 16,
      "outputs": [
        {
          "output_type": "stream",
          "name": "stdout",
          "text": [
            "Index(['Name', 'Clean_Company_Maturity', 'WKN', 'URL', 'ISIN', 'Company',\n",
            "       'Kupon_Maturity', 'Coupon', 'Maturity_Start', 'Maturity_End',\n",
            "       'is_green', 'Last Price', 'DateTime', 'Volume in Euro', '+/- %',\n",
            "       'Currency', 'YTM', 'Modified Duration', 'Kupon', 'Emittent', 'Branche',\n",
            "       'Fälligkeit', 'Schuldnerkündigungsart', 'Sonderkündigung', 'Nachrangig',\n",
            "       'Kleinste handelbare Einheit', 'Spezialist', 'Handelsmodell',\n",
            "       'Emissionsdatum', 'Emissionsvolumen', 'Umlaufendes Volumen',\n",
            "       'Emissionswährung', 'Depotwährung', 'Notierungsaufnahme',\n",
            "       'Emission_year_2020.0', 'Emission_year_2021.0', 'Emission_year_2022.0',\n",
            "       'Emission_year_2023.0', 'Emission_year_2024.0', 'Emission_year_2025.0',\n",
            "       'Date', 'fälligkeit_datum', 'emission_datum', 'days_to_maturity'],\n",
            "      dtype='object')\n",
            "                   Name Clean_Company_Maturity     WKN  \\\n",
            "0  E.ON SE 0,375% 20/27    e on se 0 375 20 27  A254QR   \n",
            "1  E.ON SE 0,375% 20/27    e on se 0 375 20 27  A254QR   \n",
            "2  E.ON SE 0,375% 20/27    e on se 0 375 20 27  A254QR   \n",
            "3  E.ON SE 0,375% 20/27    e on se 0 375 20 27  A254QR   \n",
            "4  E.ON SE 0,375% 20/27    e on se 0 375 20 27  A254QR   \n",
            "\n",
            "                                                 URL          ISIN  Company  \\\n",
            "0  https://www.boerse-frankfurt.de/anleihe/xs2103...  xs2103014291  e on se   \n",
            "1  https://www.boerse-frankfurt.de/anleihe/xs2103...  xs2103014291  e on se   \n",
            "2  https://www.boerse-frankfurt.de/anleihe/xs2103...  xs2103014291  e on se   \n",
            "3  https://www.boerse-frankfurt.de/anleihe/xs2103...  xs2103014291  e on se   \n",
            "4  https://www.boerse-frankfurt.de/anleihe/xs2103...  xs2103014291  e on se   \n",
            "\n",
            "  Kupon_Maturity  Coupon  Maturity_Start  Maturity_End  ...  \\\n",
            "0    0 375 20 27   0.375              20            27  ...   \n",
            "1    0 375 20 27   0.375              20            27  ...   \n",
            "2    0 375 20 27   0.375              20            27  ...   \n",
            "3    0 375 20 27   0.375              20            27  ...   \n",
            "4    0 375 20 27   0.375              20            27  ...   \n",
            "\n",
            "   Emission_year_2020.0  Emission_year_2021.0 Emission_year_2022.0  \\\n",
            "0                  True                 False                False   \n",
            "1                  True                 False                False   \n",
            "2                  True                 False                False   \n",
            "3                  True                 False                False   \n",
            "4                  True                 False                False   \n",
            "\n",
            "   Emission_year_2023.0 Emission_year_2024.0 Emission_year_2025.0        Date  \\\n",
            "0                 False                False                False  2025-01-02   \n",
            "1                 False                False                False  2025-01-02   \n",
            "2                 False                False                False  2025-01-02   \n",
            "3                 False                False                False  2025-01-03   \n",
            "4                 False                False                False  2025-01-03   \n",
            "\n",
            "  fälligkeit_datum emission_datum days_to_maturity  \n",
            "0       2027-09-29     2020-01-16           1000.0  \n",
            "1       2027-09-29     2020-01-16           1000.0  \n",
            "2       2027-09-29     2020-01-16           1000.0  \n",
            "3       2027-09-29     2020-01-16            999.0  \n",
            "4       2027-09-29     2020-01-16            999.0  \n",
            "\n",
            "[5 rows x 44 columns]\n"
          ]
        }
      ]
    },
    {
      "cell_type": "code",
      "source": [
        "import numpy as np\n",
        "from sklearn.preprocessing import StandardScaler\n",
        "from sklearn.metrics.pairwise import euclidean_distances\n",
        "\n",
        "def match_green_bonds(df):\n",
        "    # Ensure the dataframe has the necessary columns\n",
        "    required_cols = ['Company', 'Coupon', 'days_to_maturity', 'Emission_year_2020.0',\n",
        "                    'Emission_year_2021.0', 'Emission_year_2022.0',\n",
        "                    'Emission_year_2023.0', 'Emission_year_2024.0',\n",
        "                    'Emission_year_2025.0', 'is_green']\n",
        "\n",
        "    # Add is_green column if it doesn't exist (for testing)\n",
        "    if 'is_green' not in df.columns:\n",
        "        # This is just for testing - you would replace this with your actual data\n",
        "        df['is_green'] = np.random.choice([0, 1], size=len(df))\n",
        "\n",
        "    # Create features for matching\n",
        "    features = ['Coupon', 'days_to_maturity']\n",
        "\n",
        "    # Add emission year as a feature\n",
        "    emission_cols = [col for col in df.columns if col.startswith('Emission_year_')]\n",
        "\n",
        "    # Create a function to convert emission year columns to a single value\n",
        "    def get_emission_year(row):\n",
        "        for col in emission_cols:\n",
        "            if row[col]:\n",
        "                # Extract year from column name (e.g., 'Emission_year_2020.0' -> 2020)\n",
        "                return float(col.split('_')[2].split('.')[0])\n",
        "        return np.nan\n",
        "\n",
        "    df['emission_year'] = df.apply(get_emission_year, axis=1)\n",
        "    features.append('emission_year')\n",
        "\n",
        "    # Filter out rows with missing values in crucial columns\n",
        "    df_clean = df.dropna(subset=features + ['Company', 'is_green'])\n",
        "\n",
        "    # Get unique companies\n",
        "    companies = df_clean['Company'].unique()\n",
        "\n",
        "    # Prepare results dataframe\n",
        "    results = []\n",
        "\n",
        "    # For each company, match green bonds with conventional bonds\n",
        "    for company in companies:\n",
        "        company_bonds = df_clean[df_clean['Company'] == company]\n",
        "\n",
        "        # Skip if there are no green bonds or no conventional bonds\n",
        "        if 1 not in company_bonds['is_green'].values or 0 not in company_bonds['is_green'].values:\n",
        "            continue\n",
        "\n",
        "        green_bonds = company_bonds[company_bonds['is_green'] == 1]\n",
        "        conv_bonds = company_bonds[company_bonds['is_green'] == 0]\n",
        "\n",
        "        # Extract features for matching\n",
        "        green_features = green_bonds[features].values\n",
        "        conv_features = conv_bonds[features].values\n",
        "\n",
        "        # Standardize features\n",
        "        scaler = StandardScaler()\n",
        "        green_scaled = scaler.fit_transform(green_features)\n",
        "        conv_scaled = scaler.transform(conv_features)\n",
        "\n",
        "        # Calculate distances between each green bond and each conventional bond\n",
        "        distances = euclidean_distances(green_scaled, conv_scaled)\n",
        "\n",
        "        # Match each green bond with the closest conventional bond\n",
        "        for i, green_idx in enumerate(green_bonds.index):\n",
        "            closest_conv_idx = conv_bonds.index[np.argmin(distances[i])]\n",
        "\n",
        "            # Create a pair\n",
        "            green_bond = green_bonds.loc[green_idx]\n",
        "            conv_bond = conv_bonds.loc[closest_conv_idx]\n",
        "\n",
        "            results.append({\n",
        "                'Company': company,\n",
        "                'Green_Bond_Name': green_bond['Name'] if 'Name' in green_bond.index else 'Unknown',\n",
        "                'Green_Bond_ISIN': green_bond['ISIN'] if 'ISIN' in green_bond.index else 'Unknown',\n",
        "                'Green_Bond_Coupon': green_bond['Coupon'],\n",
        "                'Green_Bond_Maturity': green_bond['days_to_maturity'],\n",
        "                'Green_Bond_Emission_Year': green_bond['emission_year'],\n",
        "                'Conv_Bond_Name': conv_bond['Name'] if 'Name' in conv_bond.index else 'Unknown',\n",
        "                'Conv_Bond_ISIN': conv_bond['ISIN'] if 'ISIN' in conv_bond.index else 'Unknown',\n",
        "                'Conv_Bond_Coupon': conv_bond['Coupon'],\n",
        "                'Conv_Bond_Maturity': conv_bond['days_to_maturity'],\n",
        "                'Conv_Bond_Emission_Year': conv_bond['emission_year'],\n",
        "                'Distance': distances[i][np.argmin(distances[i])]\n",
        "            })\n",
        "\n",
        "    # Create results dataframe\n",
        "    results_df = pd.DataFrame(results)\n",
        "    return results_df\n",
        "\n",
        "matched_bonds = match_green_bonds(df)"
      ],
      "metadata": {
        "id": "PqlMjuL8QKYf"
      },
      "execution_count": 5,
      "outputs": []
    },
    {
      "cell_type": "code",
      "source": [
        "print(matched_bonds['Green_Bond_ISIN'].nunique())\n",
        "print(matched_bonds.head())"
      ],
      "metadata": {
        "colab": {
          "base_uri": "https://localhost:8080/"
        },
        "id": "sWGXvpYnSZMD",
        "outputId": "b691f617-c61a-48d1-d60e-002347d96d5a"
      },
      "execution_count": 10,
      "outputs": [
        {
          "output_type": "stream",
          "name": "stdout",
          "text": [
            "100\n",
            "   Company       Green_Bond_Name Green_Bond_ISIN  Green_Bond_Coupon  \\\n",
            "0  e on se  E.ON SE 0,375% 20/27    xs2103014291              0.375   \n",
            "1  e on se  E.ON SE 0,375% 20/27    xs2103014291              0.375   \n",
            "2  e on se  E.ON SE 0,375% 20/27    xs2103014291              0.375   \n",
            "3  e on se  E.ON SE 0,375% 20/27    xs2103014291              0.375   \n",
            "4  e on se  E.ON SE 0,375% 20/27    xs2103014291              0.375   \n",
            "\n",
            "   Green_Bond_Maturity  Green_Bond_Emission_Year       Conv_Bond_Name  \\\n",
            "0               1000.0                    2020.0  E.ON SE 0,75% 20/28   \n",
            "1               1000.0                    2020.0  E.ON SE 0,75% 20/28   \n",
            "2               1000.0                    2020.0  E.ON SE 0,75% 20/28   \n",
            "3                999.0                    2020.0  E.ON SE 0,75% 20/28   \n",
            "4                999.0                    2020.0  E.ON SE 0,75% 20/28   \n",
            "\n",
            "  Conv_Bond_ISIN  Conv_Bond_Coupon  Conv_Bond_Maturity  \\\n",
            "0   xs2177580250              0.75              1138.0   \n",
            "1   xs2177580250              0.75              1138.0   \n",
            "2   xs2177580250              0.75              1138.0   \n",
            "3   xs2177580250              0.75              1138.0   \n",
            "4   xs2177580250              0.75              1138.0   \n",
            "\n",
            "   Conv_Bond_Emission_Year  Distance  \n",
            "0                   2020.0  0.299536  \n",
            "1                   2020.0  0.299536  \n",
            "2                   2020.0  0.299536  \n",
            "3                   2020.0  0.300163  \n",
            "4                   2020.0  0.300163  \n"
          ]
        }
      ]
    },
    {
      "cell_type": "markdown",
      "source": [
        "# Using this matching method, we get 100 matches"
      ],
      "metadata": {
        "id": "bsB4bl0VSqyV"
      }
    },
    {
      "cell_type": "code",
      "source": [
        "# matched_bonds.to_csv('matched_green_bonds.csv', index=False)"
      ],
      "metadata": {
        "id": "d46w_9DgQWqS"
      },
      "execution_count": null,
      "outputs": []
    },
    {
      "cell_type": "code",
      "source": [
        "import pandas as pd\n",
        "import numpy as np\n",
        "\n",
        "def prepare_regression_data(matched_bonds, original_df):\n",
        "    \"\"\"\n",
        "    Prepare the regression dataset from matched green and conventional bonds.\n",
        "\n",
        "    Parameters:\n",
        "    matched_bonds (DataFrame): The matched pairs of green and conventional bonds\n",
        "    original_df (DataFrame): The original dataset with YTM information\n",
        "\n",
        "    Returns:\n",
        "    DataFrame: Clean dataset ready for regression analysis\n",
        "    \"\"\"\n",
        "    # Create regression dataset from matched pairs\n",
        "    regression_data = []\n",
        "\n",
        "    for _, row in matched_bonds.iterrows():\n",
        "        # Green bond data\n",
        "        green_data = {\n",
        "            'ISIN': row['Green_Bond_ISIN'],\n",
        "            'Company': row['Company'],\n",
        "            'Coupon': row['Green_Bond_Coupon'],\n",
        "            'Maturity': row['Green_Bond_Maturity'],\n",
        "            'Emission_Year': row['Green_Bond_Emission_Year'],\n",
        "            'is_green': 1,\n",
        "            'Distance': row['Distance'],\n",
        "            'Bond_Pair_ID': _  # Use row index as pair identifier\n",
        "        }\n",
        "\n",
        "        # Conventional bond data\n",
        "        conv_data = {\n",
        "            'ISIN': row['Conv_Bond_ISIN'],\n",
        "            'Company': row['Company'],\n",
        "            'Coupon': row['Conv_Bond_Coupon'],\n",
        "            'Maturity': row['Conv_Bond_Maturity'],\n",
        "            'Emission_Year': row['Conv_Bond_Emission_Year'],\n",
        "            'is_green': 0,\n",
        "            'Distance': row['Distance'],\n",
        "            'Bond_Pair_ID': _  # Same pair identifier\n",
        "        }\n",
        "\n",
        "        regression_data.append(green_data)\n",
        "        regression_data.append(conv_data)\n",
        "\n",
        "    # Create dataframe\n",
        "    reg_df = pd.DataFrame(regression_data)\n",
        "\n",
        "    # Merge with original data to get YTM and DateTime\n",
        "    reg_df = pd.merge(\n",
        "        reg_df,\n",
        "        original_df[['ISIN', 'YTM', 'DateTime']],\n",
        "        on='ISIN',\n",
        "        how='left'\n",
        "    )\n",
        "\n",
        "    # Convert all numeric columns to float\n",
        "    numeric_cols = ['is_green', 'Coupon', 'Maturity', 'Distance', 'YTM', 'Emission_Year']\n",
        "    for col in numeric_cols:\n",
        "        reg_df[col] = pd.to_numeric(reg_df[col], errors='coerce')\n",
        "\n",
        "    # Drop rows with missing values in key columns\n",
        "    reg_df = reg_df.dropna(subset=['YTM', 'is_green', 'Coupon', 'Maturity', 'Distance'])\n",
        "\n",
        "    # Handle company dummies properly\n",
        "    # First ensure Company column has proper encoding and clean values\n",
        "    reg_df['Company'] = reg_df['Company'].astype(str).str.strip()\n",
        "\n",
        "    # Let's print the unique companies to verify\n",
        "    print(f\"Number of unique companies: {reg_df['Company'].nunique()}\")\n",
        "    print(f\"Company values: {reg_df['Company'].unique()[:5]}...\")  # Show first 5\n",
        "\n",
        "    # Create company dummy variables - ensure they're properly encoded\n",
        "    company_cols = pd.get_dummies(reg_df['Company'], prefix='Company', drop_first=True)\n",
        "\n",
        "    # Instead of using get_dummies on the entire dataframe, combine manually\n",
        "    reg_df = pd.concat([reg_df, company_cols], axis=1)\n",
        "\n",
        "    return reg_df\n",
        "\n",
        "df_regression = prepare_regression_data(matched_bonds, df)"
      ],
      "metadata": {
        "colab": {
          "base_uri": "https://localhost:8080/"
        },
        "id": "WhTjpZI2Ut8d",
        "outputId": "02a63f30-b738-4544-edd9-d81c2e718ee0"
      },
      "execution_count": 21,
      "outputs": [
        {
          "output_type": "stream",
          "name": "stdout",
          "text": [
            "Number of unique companies: 35\n",
            "Company values: ['e on se' 'landwirtschaftliche rentenbank' 'de volksbank n v'\n",
            " 'volkswagen international finance n v' 'instituto de credito oficial']...\n"
          ]
        }
      ]
    },
    {
      "cell_type": "code",
      "source": [
        "df_regression"
      ],
      "metadata": {
        "id": "A0PT7VwjWqJ4"
      },
      "execution_count": 23,
      "outputs": []
    },
    {
      "cell_type": "code",
      "source": [
        "import pandas as pd\n",
        "import numpy as np\n",
        "import statsmodels.api as sm\n",
        "import matplotlib.pyplot as plt\n",
        "import seaborn as sns\n",
        "\n",
        "def analyze_green_bond_premium(df_regression):\n",
        "    # Prepare the independent variables\n",
        "    X_cols = ['is_green', 'Coupon', 'Maturity', 'Distance']\n",
        "    X = df_regression[X_cols]\n",
        "\n",
        "    # Add company dummy variables\n",
        "    company_cols = [col for col in df_regression.columns if col.startswith('Company_')]\n",
        "    X = pd.concat([X, df_regression[company_cols]], axis=1)\n",
        "\n",
        "    # Check if any columns have object dtype (which could cause the error)\n",
        "    for col in X.columns:\n",
        "        if X[col].dtype == 'object':\n",
        "            X[col] = pd.to_numeric(X[col], errors='coerce')\n",
        "\n",
        "    # Drop any remaining NaN values\n",
        "    mask = X.notna().all(axis=1)\n",
        "    X = X[mask]\n",
        "    y = df_regression.loc[mask, 'YTM']\n",
        "\n",
        "    # Add constant\n",
        "    X = sm.add_constant(X)\n",
        "\n",
        "    # Check once more for any object dtypes\n",
        "    for col in X.columns:\n",
        "        print(f\"Column {col}: dtype = {X[col].dtype}\")\n",
        "\n",
        "    # Fit the regression model\n",
        "    model = sm.OLS(y, X).fit()\n",
        "\n",
        "    # Print summary\n",
        "    print(model.summary())\n",
        "\n",
        "    # Check statistical significance of 'is_green'\n",
        "    is_green_pvalue = model.pvalues['is_green']\n",
        "    is_green_coef = model.params['is_green']\n",
        "\n",
        "    print(f\"\\nGreen Bond Premium Analysis:\")\n",
        "    print(f\"Coefficient for is_green: {is_green_coef:.4f}\")\n",
        "    print(f\"P-value for is_green: {is_green_pvalue:.4f}\")\n",
        "\n",
        "    if is_green_pvalue < 0.05:\n",
        "        print(f\"The 'is_green' variable is statistically significant (p < 0.05)\")\n",
        "        if is_green_coef < 0:\n",
        "            print(f\"Green bonds have a YTM that is {abs(is_green_coef):.2f} percentage points lower than conventional bonds,\")\n",
        "            print(f\"indicating a 'greenium' (green premium) in the bond market.\")\n",
        "        else:\n",
        "            print(f\"Green bonds have a YTM that is {is_green_coef:.2f} percentage points higher than conventional bonds.\")\n",
        "    else:\n",
        "        print(f\"The 'is_green' variable is not statistically significant (p >= 0.05)\")\n",
        "        print(f\"This suggests no significant pricing difference between green and conventional bonds.\")\n",
        "\n",
        "    # Check significance of Distance\n",
        "    distance_pvalue = model.pvalues['Distance']\n",
        "    distance_coef = model.params['Distance']\n",
        "\n",
        "    print(f\"\\nDistance Measure Analysis:\")\n",
        "    print(f\"Coefficient for Distance: {distance_coef:.4f}\")\n",
        "    print(f\"P-value for Distance: {distance_pvalue:.4f}\")\n",
        "\n",
        "    if distance_pvalue < 0.05:\n",
        "        print(f\"The 'Distance' variable is statistically significant (p < 0.05)\")\n",
        "        print(f\"This suggests that the matching quality affects bond pricing.\")\n",
        "    else:\n",
        "        print(f\"The 'Distance' variable is not statistically significant (p >= 0.05)\")\n",
        "        print(f\"This suggests the matching quality does not significantly affect pricing.\")\n",
        "\n",
        "    # Visualize the results\n",
        "    plt.figure(figsize=(10, 6))\n",
        "\n",
        "    # Box plot of YTM by green/conventional bonds\n",
        "    sns.boxplot(x='is_green', y='YTM', data=reg_df)\n",
        "    plt.title('YTM Comparison: Green vs Conventional Bonds')\n",
        "    plt.xlabel('Green Bond (1=Yes, 0=No)')\n",
        "    plt.ylabel('Yield to Maturity (%)')\n",
        "    plt.xticks([0, 1], ['Conventional', 'Green'])\n",
        "\n",
        "    plt.tight_layout()\n",
        "    plt.savefig('green_bond_ytm_comparison.png')\n",
        "\n",
        "    return model, reg_df\n",
        "\n",
        "model, reg_df = analyze_green_bond_premium(matched_bonds, df)"
      ],
      "metadata": {
        "id": "EBhdEQeDTZLc"
      },
      "execution_count": null,
      "outputs": []
    }
  ]
}